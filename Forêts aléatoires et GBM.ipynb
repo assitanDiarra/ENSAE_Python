{
 "cells": [
  {
   "cell_type": "code",
   "execution_count": 1,
   "metadata": {},
   "outputs": [
    {
     "data": {
      "text/plain": [
       "'C:\\\\Users\\\\flora_000\\\\Desktop\\\\ENSAE\\\\Projet Python\\\\Data'"
      ]
     },
     "execution_count": 1,
     "metadata": {},
     "output_type": "execute_result"
    }
   ],
   "source": [
    "# on appelle les libraires\n",
    "import numpy as np \n",
    "import pandas as pd \n",
    "get_ipython().magic('matplotlib inline')\n",
    "import matplotlib.pyplot as plt\n",
    "import os\n",
    "os.chdir(\"C:/Users/flora_000/Desktop/ENSAE/Projet Python/Data\")\n",
    "os.getcwd()"
   ]
  },
  {
   "cell_type": "code",
   "execution_count": 6,
   "metadata": {
    "collapsed": true,
    "scrolled": true
   },
   "outputs": [],
   "source": [
    "# on importe la base de donnée finale\n",
    "data0= pd.read_csv('data_2000_20_12_17.csv',delimiter=',',low_memory=False)\n",
    "# on filtre sur le cancer des poumons \n",
    "data_c34 = data0[data0['Cancer_code'] == \"C33,C34\"]\n",
    "# export du dataframe pour ne pas devoir réimporter la base avec tous les cancers à chaque fois\n",
    "data_c34.to_csv('data.csv')"
   ]
  },
  {
   "cell_type": "code",
   "execution_count": 2,
   "metadata": {},
   "outputs": [
    {
     "name": "stdout",
     "output_type": "stream",
     "text": [
      "(37264, 58)\n"
     ]
    },
    {
     "data": {
      "text/html": [
       "<div>\n",
       "<style>\n",
       "    .dataframe thead tr:only-child th {\n",
       "        text-align: right;\n",
       "    }\n",
       "\n",
       "    .dataframe thead th {\n",
       "        text-align: left;\n",
       "    }\n",
       "\n",
       "    .dataframe tbody tr th {\n",
       "        vertical-align: top;\n",
       "    }\n",
       "</style>\n",
       "<table border=\"1\" class=\"dataframe\">\n",
       "  <thead>\n",
       "    <tr style=\"text-align: right;\">\n",
       "      <th></th>\n",
       "      <th>Unnamed: 0</th>\n",
       "      <th>Unnamed: 0.1</th>\n",
       "      <th>Cancer_code</th>\n",
       "      <th>Sex</th>\n",
       "      <th>Age_bucket</th>\n",
       "      <th>Location</th>\n",
       "      <th>Year</th>\n",
       "      <th>Nb_deaths</th>\n",
       "      <th>Country</th>\n",
       "      <th>Age_group</th>\n",
       "      <th>...</th>\n",
       "      <th>EN.ATM.CO2E.LF.KT</th>\n",
       "      <th>EN.ATM.METH.AG.KT.CE</th>\n",
       "      <th>EN.ATM.METH.EG.KT.CE</th>\n",
       "      <th>EN.ATM.NOXE.AG.KT.CE</th>\n",
       "      <th>EN.ATM.NOXE.EG.KT.CE</th>\n",
       "      <th>NY.GDP.TOTL.RT.ZS</th>\n",
       "      <th>EN.ATM.CO2E.KT</th>\n",
       "      <th>EN.ATM.CO2E.PC</th>\n",
       "      <th>NY.GDP.MKTP.CD</th>\n",
       "      <th>NY.GDP.PCAP.CD</th>\n",
       "    </tr>\n",
       "  </thead>\n",
       "  <tbody>\n",
       "    <tr>\n",
       "      <th>0</th>\n",
       "      <td>14648</td>\n",
       "      <td>42136</td>\n",
       "      <td>C33,C34</td>\n",
       "      <td>1</td>\n",
       "      <td>2</td>\n",
       "      <td>Antigua and Barbuda</td>\n",
       "      <td>2000</td>\n",
       "      <td>0</td>\n",
       "      <td>Antigua and Barbuda</td>\n",
       "      <td>2</td>\n",
       "      <td>...</td>\n",
       "      <td>344.698</td>\n",
       "      <td>23.119577</td>\n",
       "      <td>1.025246</td>\n",
       "      <td>11.202249</td>\n",
       "      <td>2.045597</td>\n",
       "      <td>0.0</td>\n",
       "      <td>344.698</td>\n",
       "      <td>4.439239</td>\n",
       "      <td>7.838379e+08</td>\n",
       "      <td>10094.759065</td>\n",
       "    </tr>\n",
       "    <tr>\n",
       "      <th>1</th>\n",
       "      <td>14663</td>\n",
       "      <td>42151</td>\n",
       "      <td>C33,C34</td>\n",
       "      <td>1</td>\n",
       "      <td>3</td>\n",
       "      <td>Antigua and Barbuda</td>\n",
       "      <td>2000</td>\n",
       "      <td>0</td>\n",
       "      <td>Antigua and Barbuda</td>\n",
       "      <td>3</td>\n",
       "      <td>...</td>\n",
       "      <td>344.698</td>\n",
       "      <td>23.119577</td>\n",
       "      <td>1.025246</td>\n",
       "      <td>11.202249</td>\n",
       "      <td>2.045597</td>\n",
       "      <td>0.0</td>\n",
       "      <td>344.698</td>\n",
       "      <td>4.439239</td>\n",
       "      <td>7.838379e+08</td>\n",
       "      <td>10094.759065</td>\n",
       "    </tr>\n",
       "    <tr>\n",
       "      <th>2</th>\n",
       "      <td>14679</td>\n",
       "      <td>42167</td>\n",
       "      <td>C33,C34</td>\n",
       "      <td>2</td>\n",
       "      <td>3</td>\n",
       "      <td>Antigua and Barbuda</td>\n",
       "      <td>2000</td>\n",
       "      <td>0</td>\n",
       "      <td>Antigua and Barbuda</td>\n",
       "      <td>3</td>\n",
       "      <td>...</td>\n",
       "      <td>344.698</td>\n",
       "      <td>23.119577</td>\n",
       "      <td>1.025246</td>\n",
       "      <td>11.202249</td>\n",
       "      <td>2.045597</td>\n",
       "      <td>0.0</td>\n",
       "      <td>344.698</td>\n",
       "      <td>4.439239</td>\n",
       "      <td>7.838379e+08</td>\n",
       "      <td>10094.759065</td>\n",
       "    </tr>\n",
       "    <tr>\n",
       "      <th>3</th>\n",
       "      <td>14694</td>\n",
       "      <td>42182</td>\n",
       "      <td>C33,C34</td>\n",
       "      <td>1</td>\n",
       "      <td>1</td>\n",
       "      <td>Antigua and Barbuda</td>\n",
       "      <td>2000</td>\n",
       "      <td>0</td>\n",
       "      <td>Antigua and Barbuda</td>\n",
       "      <td>1</td>\n",
       "      <td>...</td>\n",
       "      <td>344.698</td>\n",
       "      <td>23.119577</td>\n",
       "      <td>1.025246</td>\n",
       "      <td>11.202249</td>\n",
       "      <td>2.045597</td>\n",
       "      <td>0.0</td>\n",
       "      <td>344.698</td>\n",
       "      <td>4.439239</td>\n",
       "      <td>7.838379e+08</td>\n",
       "      <td>10094.759065</td>\n",
       "    </tr>\n",
       "    <tr>\n",
       "      <th>4</th>\n",
       "      <td>14708</td>\n",
       "      <td>42196</td>\n",
       "      <td>C33,C34</td>\n",
       "      <td>1</td>\n",
       "      <td>6</td>\n",
       "      <td>Antigua and Barbuda</td>\n",
       "      <td>2000</td>\n",
       "      <td>0</td>\n",
       "      <td>Antigua and Barbuda</td>\n",
       "      <td>6</td>\n",
       "      <td>...</td>\n",
       "      <td>344.698</td>\n",
       "      <td>23.119577</td>\n",
       "      <td>1.025246</td>\n",
       "      <td>11.202249</td>\n",
       "      <td>2.045597</td>\n",
       "      <td>0.0</td>\n",
       "      <td>344.698</td>\n",
       "      <td>4.439239</td>\n",
       "      <td>7.838379e+08</td>\n",
       "      <td>10094.759065</td>\n",
       "    </tr>\n",
       "  </tbody>\n",
       "</table>\n",
       "<p>5 rows × 58 columns</p>\n",
       "</div>"
      ],
      "text/plain": [
       "   Unnamed: 0  Unnamed: 0.1 Cancer_code  Sex  Age_bucket             Location  \\\n",
       "0       14648         42136     C33,C34    1           2  Antigua and Barbuda   \n",
       "1       14663         42151     C33,C34    1           3  Antigua and Barbuda   \n",
       "2       14679         42167     C33,C34    2           3  Antigua and Barbuda   \n",
       "3       14694         42182     C33,C34    1           1  Antigua and Barbuda   \n",
       "4       14708         42196     C33,C34    1           6  Antigua and Barbuda   \n",
       "\n",
       "   Year  Nb_deaths              Country  Age_group       ...        \\\n",
       "0  2000          0  Antigua and Barbuda          2       ...         \n",
       "1  2000          0  Antigua and Barbuda          3       ...         \n",
       "2  2000          0  Antigua and Barbuda          3       ...         \n",
       "3  2000          0  Antigua and Barbuda          1       ...         \n",
       "4  2000          0  Antigua and Barbuda          6       ...         \n",
       "\n",
       "   EN.ATM.CO2E.LF.KT  EN.ATM.METH.AG.KT.CE EN.ATM.METH.EG.KT.CE  \\\n",
       "0            344.698             23.119577             1.025246   \n",
       "1            344.698             23.119577             1.025246   \n",
       "2            344.698             23.119577             1.025246   \n",
       "3            344.698             23.119577             1.025246   \n",
       "4            344.698             23.119577             1.025246   \n",
       "\n",
       "   EN.ATM.NOXE.AG.KT.CE  EN.ATM.NOXE.EG.KT.CE  NY.GDP.TOTL.RT.ZS  \\\n",
       "0             11.202249              2.045597                0.0   \n",
       "1             11.202249              2.045597                0.0   \n",
       "2             11.202249              2.045597                0.0   \n",
       "3             11.202249              2.045597                0.0   \n",
       "4             11.202249              2.045597                0.0   \n",
       "\n",
       "   EN.ATM.CO2E.KT  EN.ATM.CO2E.PC  NY.GDP.MKTP.CD  NY.GDP.PCAP.CD  \n",
       "0         344.698        4.439239    7.838379e+08    10094.759065  \n",
       "1         344.698        4.439239    7.838379e+08    10094.759065  \n",
       "2         344.698        4.439239    7.838379e+08    10094.759065  \n",
       "3         344.698        4.439239    7.838379e+08    10094.759065  \n",
       "4         344.698        4.439239    7.838379e+08    10094.759065  \n",
       "\n",
       "[5 rows x 58 columns]"
      ]
     },
     "execution_count": 2,
     "metadata": {},
     "output_type": "execute_result"
    }
   ],
   "source": [
    "# on importe la base de donnée finale\n",
    "data= pd.read_csv('data.csv',delimiter=',',low_memory=False)\n",
    "data.describe()\n",
    "print(data.shape)\n",
    "data.head()"
   ]
  },
  {
   "cell_type": "markdown",
   "metadata": {},
   "source": [
    "#  Méthode Bagging : ici, nous allons voir l'algorithme de forêt aléatoire pour une classification et pour une régression."
   ]
  },
  {
   "cell_type": "markdown",
   "metadata": {},
   "source": [
    "# Forêts alétoires Régression "
   ]
  },
  {
   "cell_type": "markdown",
   "metadata": {},
   "source": [
    "L’algorithme d’agrégation de modèles le plus utilisé est celui des forêts aléatoires (bagging), ce qui ne signifie \n",
    "pas qu’il conduit toujours à la meilleure prévision. L'objectif de la forêt aléatoire est de réduire le rique de sur-apprentissage (en comparaison de l'arbre de décision).\n",
    "\n",
    "Plus que le nombre d’arbres n_estimators, le paramètre à optimiser est le nombre de variables tirées aléatoirement pour la recherche de la division optimale d’un nœud : max_features. Par défaut, il prend la valeur p/3 en pour la régression et √p pour la classification. "
   ]
  },
  {
   "cell_type": "code",
   "execution_count": 19,
   "metadata": {
    "collapsed": true
   },
   "outputs": [],
   "source": [
    "# variable à expliquer\n",
    "Y= data[[\"Mortality_rate\"]] \n",
    "Y.mean()\n",
    "# variables explicatives\n",
    "X= data[[\"Sex\",\"Age_bucket\",\"Year\",\"Country\", \"SP.URB.TOTL.IN.ZS\",\"SP.URB.GROW\",\"SP.POP.GROW\",\"SE.PRM.DURS\",\n",
    "\"AG.SRF.TOTL.K2\",\"SE.PRE.DURS\",\"EN.POP.DNST\",\"SE.SEC.DURS\",\"SP.DYN.CBRT.IN\",\"SP.DYN.CDRT.IN\",\n",
    "\"NY.ADJ.AEDU.GN.ZS\", \"SP.DYN.TFRT.IN\", \"SP.ADO.TFRT\", \"SP.DYN.LE00.FE.IN\", \"SP.DYN.LE00.IN\",\n",
    "\"SP.POP.DPND\",\"SP.DYN.AMRT.FE\",\"SP.DYN.AMRT.MA\",\"EN.ATM.NOXE.KT.CE\",\"EN.ATM.METH.KT.CE\",\n",
    "\"AG.LND.AGRI.K2\", \"EN.ATM.GHGO.KT.CE\",\"AG.LND.AGRI.ZS\",\"AG.PRD.FOOD.XD\",\"IT.CEL.SETS\",\n",
    "\"AG.PRD.LVSK.XD\",\"AG.PRD.CROP.XD\",\"IT.MLT.MAIN\",\"EN.ATM.GHGT.KT.CE\",\"EN.ATM.CO2E.GF.ZS\",\n",
    "\"EN.ATM.CO2E.LF.ZS\",\"EN.ATM.CO2E.SF.ZS\",\"NY.GDP.FRST.RT.ZS\",\"NY.GDP.MINR.RT.ZS\",\"EN.ATM.CO2E.LF.KT\",\n",
    "\"EN.ATM.METH.AG.KT.CE\",\"EN.ATM.METH.EG.KT.CE\",\"EN.ATM.NOXE.AG.KT.CE\", \"EN.ATM.NOXE.EG.KT.CE\",\n",
    "\"NY.GDP.TOTL.RT.ZS\", \"EN.ATM.CO2E.KT\",\"EN.ATM.CO2E.PC\",\"NY.GDP.MKTP.CD\",\"NY.GDP.PCAP.CD\"]] \n",
    "\n",
    "# On transforme les variables sous forme de chaînes de caractères en variables binaires :\n",
    " # Ici, seul la variable country est concernée\n",
    "X2 = X.T.to_dict().values()\n",
    "from sklearn.feature_extraction import DictVectorizer\n",
    "prep = DictVectorizer()\n",
    "X3 = prep.fit_transform(X2).toarray()\n",
    "\n",
    "# on constitut nos deux échantillons \"train\" et \"test\" \n",
    "from sklearn.model_selection import train_test_split\n",
    "X_train, X_test, Y_train, Y_test = train_test_split(X3, Y, test_size=0.3)"
   ]
  },
  {
   "cell_type": "markdown",
   "metadata": {
    "collapsed": true
   },
   "source": [
    "Nous allons calculer le RMSE du modèle en faisant varier les paramètres suivants :\n",
    "- n_estimators :  Le nombre d'arbres dans la forêt. (par défaut = 10)\n",
    "- max_depth : La profondeur maximale de l'arbre. (par défaut = None)\n",
    "- max_features : le nombre de variables tirées aléatoirement pour la recherche de la division optimale d’un nœud"
   ]
  },
  {
   "cell_type": "code",
   "execution_count": 20,
   "metadata": {
    "collapsed": true
   },
   "outputs": [],
   "source": [
    "from sklearn.ensemble import RandomForestRegressor\n",
    "from sklearn import metrics"
   ]
  },
  {
   "cell_type": "code",
   "execution_count": 6,
   "metadata": {},
   "outputs": [
    {
     "name": "stdout",
     "output_type": "stream",
     "text": [
      "n_estimators 1 erreur 103.528680035 104.457091992\n",
      "n_estimators 2 erreur 103.54088299 104.416993603\n",
      "n_estimators 3 erreur 103.523795111 104.440222391\n",
      "n_estimators 4 erreur 103.537043012 104.463766744\n",
      "n_estimators 5 erreur 103.536598742 104.416628854\n",
      "n_estimators 6 erreur 103.519597785 104.427588409\n",
      "n_estimators 7 erreur 103.525907929 104.449461241\n",
      "n_estimators 8 erreur 103.520669666 104.430698914\n",
      "n_estimators 9 erreur 103.522274372 104.439741502\n",
      "n_estimators 10 erreur 103.520312033 104.421391406\n",
      "n_estimators 11 erreur 103.527494698 104.452069318\n",
      "n_estimators 12 erreur 103.520213099 104.423817951\n",
      "n_estimators 13 erreur 103.519708909 104.42433395\n",
      "n_estimators 14 erreur 103.520010765 104.422460713\n",
      "n_estimators 15 erreur 103.524810246 104.445328909\n",
      "n_estimators 16 erreur 103.519665684 104.426843656\n",
      "n_estimators 17 erreur 103.519701939 104.426778059\n",
      "n_estimators 18 erreur 103.519799566 104.429724395\n",
      "n_estimators 19 erreur 103.520770277 104.420445955\n"
     ]
    },
    {
     "data": {
      "text/plain": [
       "<matplotlib.legend.Legend at 0x65054d1eb8>"
      ]
     },
     "execution_count": 6,
     "metadata": {},
     "output_type": "execute_result"
    },
    {
     "data": {
      "image/png": "[encoded data removed]",
      "text/plain": [
       "<matplotlib.figure.Figure at 0x6508e764a8>"
      ]
     },
     "metadata": {},
     "output_type": "display_data"
    }
   ],
   "source": [
    "# on fait varier le nombre d'arbre dans la forêt.\n",
    "curves = []\n",
    "for n_estimators in range(1,20) :\n",
    "    \n",
    "    # définition des paramètres\n",
    "    clf = RandomForestRegressor(n_estimators=n_estimators,max_depth=1)\n",
    "    # apprentissage\n",
    "    clf = clf.fit(X_train, Y_train[\"Mortality_rate\"].ravel())\n",
    "    \n",
    "    # on calcule l'erreur (MSE)\n",
    "    err_train = metrics.mean_squared_error( clf.predict(X_train), Y_train)**0.5\n",
    "    err_test = metrics.mean_squared_error( clf.predict(X_test), Y_test)**0.5\n",
    "    print(\"n_estimators\",n_estimators, \"erreur\", err_train, err_test)\n",
    "    curves.append((n_estimators,  err_train, err_test, clf) )\n",
    "\n",
    "plt.plot ( [c[0] for c in curves], [c[1] for c in curves], label=\"train\")\n",
    "plt.plot ( [c[0] for c in curves], [c[2] for c in curves], label=\"test\")\n",
    "\n",
    "plt.legend()\n",
    "# Le modèle ne varie pas en fonction de ce paramètre, on choisit de garder la valeur par défaut n_estimators = 10"
   ]
  },
  {
   "cell_type": "code",
   "execution_count": 7,
   "metadata": {},
   "outputs": [
    {
     "name": "stdout",
     "output_type": "stream",
     "text": [
      "max_depth 1 erreur 103.520357091 104.421363462\n",
      "max_depth 2 erreur 84.7966641704 84.5510163819\n",
      "max_depth 3 erreur 65.0642808169 66.2585367536\n",
      "max_depth 4 erreur 53.451750182 56.7015327354\n",
      "max_depth 5 erreur 45.4992523121 49.6176612327\n",
      "max_depth 6 erreur 36.6844906513 42.4320297815\n",
      "max_depth 7 erreur 31.0473107445 37.4432375301\n",
      "max_depth 8 erreur 25.7559508896 33.7084384382\n",
      "max_depth 9 erreur 22.088825229 32.098647184\n",
      "max_depth 10 erreur 19.1024502788 31.3261471262\n",
      "max_depth 11 erreur 17.378541887 30.5611686437\n",
      "max_depth 12 erreur 15.7684017271 30.2966359326\n",
      "max_depth 13 erreur 14.4586537829 29.4356456144\n",
      "max_depth 14 erreur 14.5583061702 29.6814401395\n",
      "max_depth 15 erreur 13.6165338355 29.6729617871\n",
      "max_depth 16 erreur 13.0685767987 30.7126638359\n",
      "max_depth 17 erreur 13.505070495 29.8349235521\n",
      "max_depth 18 erreur 12.8438898885 30.2302680758\n",
      "max_depth 19 erreur 13.0206914583 29.6140669084\n",
      "max_depth 20 erreur 13.2582837081 29.6922016189\n",
      "max_depth 21 erreur 12.5625183383 30.1617372701\n",
      "max_depth 22 erreur 12.5144090485 30.4294168116\n",
      "max_depth 23 erreur 12.1798790963 29.5790265207\n",
      "max_depth 24 erreur 12.6327218921 30.196411001\n",
      "max_depth 25 erreur 12.7450828643 30.5388824295\n",
      "max_depth 26 erreur 12.8561783283 29.076248469\n",
      "max_depth 27 erreur 12.4949991939 29.5283940028\n",
      "max_depth 28 erreur 13.1569138907 29.7343776719\n",
      "max_depth 29 erreur 12.3802549225 29.0906327097\n"
     ]
    },
    {
     "data": {
      "text/plain": [
       "<matplotlib.legend.Legend at 0x65051fe710>"
      ]
     },
     "execution_count": 7,
     "metadata": {},
     "output_type": "execute_result"
    },
    {
     "data": {
      "image/png": "[encoded data removed]",
      "text/plain": [
       "<matplotlib.figure.Figure at 0x6508e5f080>"
      ]
     },
     "metadata": {},
     "output_type": "display_data"
    }
   ],
   "source": [
    "# on fait varier a profondeur maximale de l'arbre.\n",
    "curves = []\n",
    "for max_depth in range(1,30) :\n",
    "  \n",
    "    # définition des paramètres\n",
    "    clf = RandomForestRegressor(n_estimators=10,max_depth=max_depth)\n",
    "    # apprentissage\n",
    "    clf = clf.fit(X_train, Y_train[\"Mortality_rate\"].ravel())\n",
    "    \n",
    "    # on calcule l'erreur (MSE)\n",
    "    err_train = metrics.mean_squared_error( clf.predict(X_train), Y_train)**0.5\n",
    "    err_test = metrics.mean_squared_error( clf.predict(X_test), Y_test)**0.5\n",
    "    print(\"max_depth\",max_depth, \"erreur\", err_train, err_test)\n",
    "    curves.append((max_depth,  err_train, err_test, clf) )\n",
    "\n",
    "plt.plot ( [c[0] for c in curves], [c[1] for c in curves], label=\"train\")\n",
    "plt.plot ( [c[0] for c in curves], [c[2] for c in curves], label=\"test\")\n",
    "\n",
    "plt.legend()\n",
    "# on choisit max_depth = 15"
   ]
  },
  {
   "cell_type": "code",
   "execution_count": 8,
   "metadata": {},
   "outputs": [
    {
     "name": "stdout",
     "output_type": "stream",
     "text": [
      "max_features 30 erreur 20.1732129947 36.6549581429\n",
      "max_features 31 erreur 18.6761855562 35.2317778065\n",
      "max_features 32 erreur 19.7820135958 36.3069358597\n",
      "max_features 33 erreur 18.3792191888 34.9301324493\n",
      "max_features 34 erreur 18.6231687675 35.5434190646\n",
      "max_features 35 erreur 17.5301470018 33.6385395169\n",
      "max_features 36 erreur 20.5977964253 35.6651729814\n",
      "max_features 37 erreur 17.6637183577 34.300295384\n",
      "max_features 38 erreur 17.7130666199 34.0842167994\n",
      "max_features 39 erreur 17.3446932171 34.7545696777\n",
      "max_features 40 erreur 15.5403397192 31.9946785002\n",
      "max_features 41 erreur 16.6880843787 34.1033204229\n",
      "max_features 42 erreur 14.9075825857 31.8541823875\n",
      "max_features 43 erreur 15.0224941698 31.2072690894\n",
      "max_features 44 erreur 15.3441130481 31.8143869362\n",
      "max_features 45 erreur 14.8315811757 31.0503356217\n",
      "max_features 46 erreur 14.1818595419 30.1444954605\n",
      "max_features 47 erreur 15.2109211519 31.2411381429\n",
      "max_features 48 erreur 15.2099245874 31.7568934299\n",
      "max_features 49 erreur 15.2943858693 32.5288282012\n",
      "max_features 50 erreur 14.2707727361 30.7690229705\n",
      "max_features 51 erreur 14.6988171214 29.8317705129\n",
      "max_features 52 erreur 15.0159839632 31.133765642\n",
      "max_features 53 erreur 14.6760344129 31.4967001236\n",
      "max_features 54 erreur 13.6459516237 29.70487171\n",
      "max_features 55 erreur 14.7586883562 31.7154829341\n",
      "max_features 56 erreur 14.4017610569 31.6410284303\n",
      "max_features 57 erreur 14.5643995784 30.2479300971\n",
      "max_features 58 erreur 13.4586944179 29.7291664236\n",
      "max_features 59 erreur 14.0897356068 30.7060679302\n",
      "max_features 60 erreur 14.5402187893 30.1051759262\n",
      "max_features 61 erreur 14.3558114145 30.1145579564\n",
      "max_features 62 erreur 14.45989319 30.7351141932\n",
      "max_features 63 erreur 13.9525022274 29.7193005991\n",
      "max_features 64 erreur 13.9789245575 30.049007261\n",
      "max_features 65 erreur 13.5148893712 29.812399204\n",
      "max_features 66 erreur 13.1575063882 30.0179850061\n",
      "max_features 67 erreur 13.8144452068 30.6500218593\n",
      "max_features 68 erreur 13.8082813059 29.4877831225\n",
      "max_features 69 erreur 13.8045107503 30.6441196584\n",
      "max_features 70 erreur 15.1757083583 29.6812814747\n",
      "max_features 71 erreur 13.4928485079 30.2772648869\n",
      "max_features 72 erreur 14.1799557876 29.2212553018\n",
      "max_features 73 erreur 13.8454568652 29.2102694352\n",
      "max_features 74 erreur 13.6535872556 29.9223931588\n",
      "max_features 75 erreur 14.2088100751 29.5726235744\n",
      "max_features 76 erreur 13.3226510723 30.7498082584\n",
      "max_features 77 erreur 13.0340307971 29.4968848537\n",
      "max_features 78 erreur 13.2184632857 29.6285766327\n",
      "max_features 79 erreur 13.5860629883 29.8244004033\n"
     ]
    },
    {
     "data": {
      "text/plain": [
       "<matplotlib.legend.Legend at 0x6504fa56d8>"
      ]
     },
     "execution_count": 8,
     "metadata": {},
     "output_type": "execute_result"
    },
    {
     "data": {
      "image/png": "[encoded data removed]",
      "text/plain": [
       "<matplotlib.figure.Figure at 0x65051fcdd8>"
      ]
     },
     "metadata": {},
     "output_type": "display_data"
    }
   ],
   "source": [
    "# on fait varier le nombre de variables tirées aléatoirement pour la recherche de la division optimale d’un nœud.\n",
    "curves = []\n",
    "for max_features in range(30,80) :\n",
    "    \n",
    "    # définition des paramètres\n",
    "    clf = RandomForestRegressor(n_estimators=10,max_depth=15,max_features=max_features)\n",
    "    # apprentissage\n",
    "    clf = clf.fit(X_train, Y_train[\"Mortality_rate\"].ravel())\n",
    "    \n",
    "    # on calcule l'erreur (MSE)\n",
    "    err_train = metrics.mean_squared_error( clf.predict(X_train), Y_train)**0.5\n",
    "    err_test = metrics.mean_squared_error( clf.predict(X_test), Y_test)**0.5\n",
    "    print(\"max_features\",max_features, \"erreur\", err_train, err_test)\n",
    "    curves.append((max_features, err_train, err_test, clf) )\n",
    "\n",
    "plt.plot ( [c[0] for c in curves], [c[1] for c in curves], label=\"train\")\n",
    "plt.plot ( [c[0] for c in curves], [c[2] for c in curves], label=\"test\")\n",
    "\n",
    "plt.legend()\n",
    "# on garde max_features = 80"
   ]
  },
  {
   "cell_type": "code",
   "execution_count": 21,
   "metadata": {},
   "outputs": [
    {
     "name": "stdout",
     "output_type": "stream",
     "text": [
      "RMSE_train 13.542139852\n",
      "RMSE_test 30.7127202999\n",
      "R2_train 0.989396010556\n",
      "R2_test 0.948283340463\n",
      "Wall time: 3.56 s\n"
     ]
    }
   ],
   "source": [
    "%%time\n",
    "# le modèle final est le suivant :\n",
    "RF = RandomForestRegressor(n_estimators=10,max_depth=15,max_features=80)\n",
    "RF = RF.fit(X_train, Y_train[\"Mortality_rate\"].ravel())\n",
    "# prédiction\n",
    "Y_pred_train = RF.predict(X_train)\n",
    "Y_pred_test  = RF.predict(X_test)\n",
    "# RMSE\n",
    "err_train = metrics.mean_squared_error(Y_pred_train, Y_train)**0.5\n",
    "err_test = metrics.mean_squared_error(Y_pred_test, Y_test)**0.5\n",
    "print(\"RMSE_train\", err_train)\n",
    "print(\"RMSE_test\", err_test)\n",
    "# R2\n",
    "R2_train = RF.score(X_train , Y_train)\n",
    "R2_test = RF.score(X_test, Y_test)\n",
    "print(\"R2_train\",R2_train)\n",
    "print(\"R2_test\",R2_test)"
   ]
  },
  {
   "cell_type": "code",
   "execution_count": 30,
   "metadata": {},
   "outputs": [
    {
     "name": "stdout",
     "output_type": "stream",
     "text": [
      "Minimum de la base test : Mortality_rate    0.0\n",
      "dtype: float64\n",
      "Maximum de la base test : Mortality_rate    1308.182006\n",
      "dtype: float64\n",
      "Moyenne de la base test : Mortality_rate    52.134541\n",
      "dtype: float64\n",
      "Médiane de la base test : Mortality_rate    1.307985\n",
      "dtype: float64\n",
      "Ecart-type de la base test : Mortality_rate    135.058672\n",
      "dtype: float64\n",
      "Minimum de la base test : 0.0\n",
      "Maximum de la base test : 1254.27731208\n",
      "Moyenne de la base test : 52.2039461094\n",
      "Médiane de la base test : 2.17981132431\n",
      "Ecart-type de la base test : 131.451053107\n"
     ]
    }
   ],
   "source": [
    "# résultat sut la base de test\n",
    "\n",
    "# taux de mortalité observé\n",
    "print(\"Minimum de la base test :\", Y_test.min())\n",
    "print(\"Maximum de la base test :\", Y_test.max())\n",
    "print(\"Moyenne de la base test :\", Y_test.mean())\n",
    "print(\"Médiane de la base test :\", Y_test.median())\n",
    "print(\"Ecart-type de la base test :\", Y_test.std())\n",
    "\n",
    "# taux de mortalité prédit\n",
    "print(\"Minimum de la base test :\", Y_pred_test.min())\n",
    "print(\"Maximum de la base test :\", Y_pred_test.max())\n",
    "print(\"Moyenne de la base test :\", Y_pred_test.mean())\n",
    "print(\"Médiane de la base test :\", np.median(Y_pred_test))\n",
    "print(\"Ecart-type de la base test :\", Y_pred_test.std())"
   ]
  },
  {
   "cell_type": "markdown",
   "metadata": {},
   "source": [
    "A présent, nous utilisons une méthode automatique de recherche des paramètres pour comparer les résultats."
   ]
  },
  {
   "cell_type": "code",
   "execution_count": null,
   "metadata": {
    "collapsed": true
   },
   "outputs": [],
   "source": [
    "#outil grille de recherche\n",
    "from sklearn.grid_search import GridSearchCV\n",
    "\n",
    "#combinaisons de paramètres à tester : Scikit-learn va évaluer toutes les combinaisons\n",
    "# comme le modèle ne varie pas en fonction de n_estimators, on fait varier uniquement max_depth et max_features.\n",
    "#parametres = {\"max_depth\":[10],\"max_features\":[70]}\n",
    "#parametres = {\"max_depth\":[10,11,12,13,14,15,16,17,18,19,20],\"max_features\":[70,71,72,73,74,75,76,77,78,79,80,81,82,83,84,85,86,87,88,89,90]}\n",
    "parametres = {\"max_depth\":[10],\"max_features\":[70,71]}\n",
    "\n",
    "#classifieur à utiliser – Random Forest\n",
    "RF = RandomForestRegressor()\n",
    "#instanciation de la recherche\n",
    "grille = GridSearchCV(estimator=RF,param_grid=parametres)\n",
    "\n",
    "#lancer l'exploration\n",
    "resultats = grille.fit(X_train, Y_train)\n",
    "#meilleur paramétrage : \n",
    "print(resultats.best_params_)\n",
    "#prédiction avec le ‘’meilleur’’ modèle identifié\n",
    "Y_pred_train = resultats.predict(X_train)\n",
    "Y_pred_test = resultats.predict(X_test) \n",
    "#performances du ‘’meilleur’’ modèle : taux d’erreur = 0.065\n",
    "# RMSE\n",
    "err_train = metrics.mean_squared_error( Y_pred_train, Y_train)**0.5\n",
    "err_test = metrics.mean_squared_error( Y_pred_test, Y_test)**0.5\n",
    "print(err_train)\n",
    "print(err_test)\n",
    "# R2\n",
    "R2_train = resultats.score(X_test, Y_test)\n",
    "R2_test = resultats.score(X_test, Y_test)\n",
    "print(R2_train)\n",
    "print(R2_test)"
   ]
  },
  {
   "cell_type": "markdown",
   "metadata": {},
   "source": [
    " {'max_depth': 18, 'max_features': 80}\n",
    " \n",
    "    RMSE_train 13.4576568011\n",
    "    RMSE_test 29.4560944794\n",
    "    R2_train 0.952815291509\n",
    "    R2_test 0.952815291509\n",
    "\n",
    "  Les résultats ne sont pas meilleurs que la méthode manuelle. De plus, ils ne sont pas toujours très stables."
   ]
  },
  {
   "cell_type": "markdown",
   "metadata": {},
   "source": [
    "# Forêts alétoires Classification"
   ]
  },
  {
   "cell_type": "markdown",
   "metadata": {},
   "source": [
    "Une forêt aléatoire est un méta-estimateur qui correspond à un certain nombre de classificateurs d'arbres de décision sur divers sous-échantillons de l'ensemble de données et utilise la moyenne pour  améliorer la précision prédictive et contrôler le sur-ajustement. La taille du sous-échantillon est toujours la même que celle de l'échantillon original, mais les échantillons sont remplacés si bootstrap = True (par défaut)."
   ]
  },
  {
   "cell_type": "code",
   "execution_count": 9,
   "metadata": {
    "scrolled": true
   },
   "outputs": [
    {
     "name": "stdout",
     "output_type": "stream",
     "text": [
      "Mortality_cat\n",
      "1     13051\n",
      "2      1855\n",
      "3      1863\n",
      "4      1863\n",
      "5      1863\n",
      "6      1863\n",
      "7      1863\n",
      "8      1864\n",
      "9      1863\n",
      "10     1863\n",
      "11     1863\n",
      "12     1863\n",
      "13     1863\n",
      "14      373\n",
      "15      373\n",
      "16      372\n",
      "17      373\n",
      "18      373\n",
      "Name: Mortality_cat, dtype: int64\n",
      "Mortality_cat\n",
      "1       0.000000\n",
      "2       0.104974\n",
      "3       0.375507\n",
      "4       0.855722\n",
      "5       1.958020\n",
      "6       4.333836\n",
      "7       8.759500\n",
      "8      15.763014\n",
      "9      26.243081\n",
      "10     41.913380\n",
      "11     67.882232\n",
      "12    113.848249\n",
      "13    206.613198\n",
      "14    302.866096\n",
      "15    355.358866\n",
      "16    434.428403\n",
      "17    612.906082\n",
      "18    938.472516\n",
      "Name: Mortality_rate, dtype: float64\n"
     ]
    }
   ],
   "source": [
    "# on crée des tranches pour la variables taux de mortalité\n",
    "data['Mortality_rate'].describe()\n",
    "data.sort_values(by=['Mortality_rate'], ascending=False)\n",
    "data['Mortality_rate'].quantile([0,.1,.2,.3,.35,.4,.45,.5,.55,.6,.65,.7,.75,.8,.85,.9,.95,.96,.97,.98,.99,1])\n",
    "data[data['Mortality_rate']==0].count() # il y a 13051 lignes avec des zéros sur 37264 au total => il y a 35.0230786% avec des zéros\n",
    " \n",
    "# on crée 18 tranches\n",
    "data['Mortality_cat'] = pd.qcut(data['Mortality_rate'] , q = [0,0.350230786,0.4,.45,.5,.55,.6,.65,.7,.75,.8,.85,.9,.95,.96,.97,.98,.99,1], \n",
    "    labels = [1,2,3,4,5,6,7,8,9,10,11,12,13,14,15,16,17,18]) \n",
    "print(data.groupby(['Mortality_cat'])['Mortality_cat'].count())\n",
    "print(data.groupby(['Mortality_cat'])['Mortality_rate'].mean())"
   ]
  },
  {
   "cell_type": "code",
   "execution_count": 10,
   "metadata": {
    "collapsed": true
   },
   "outputs": [],
   "source": [
    "# variable à expliquer\n",
    "Y= data[\"Mortality_cat\"] \n",
    "type(Y)\n",
    "Y2 = pd.DataFrame({'Mortality_cat':Y})\n",
    "\n",
    "\n",
    "# variables explicatives\n",
    "X= data[[\"Sex\",\"Age_bucket\",\"Year\",\"Country\", \"SP.URB.TOTL.IN.ZS\",\"SP.URB.GROW\",\"SP.POP.GROW\",\"SE.PRM.DURS\",\n",
    "\"AG.SRF.TOTL.K2\",\"SE.PRE.DURS\",\"EN.POP.DNST\",\"SE.SEC.DURS\",\"SP.DYN.CBRT.IN\",\"SP.DYN.CDRT.IN\",\n",
    "\"NY.ADJ.AEDU.GN.ZS\", \"SP.DYN.TFRT.IN\", \"SP.ADO.TFRT\", \"SP.DYN.LE00.FE.IN\", \"SP.DYN.LE00.IN\",\n",
    "\"SP.POP.DPND\",\"SP.DYN.AMRT.FE\",\"SP.DYN.AMRT.MA\",\"EN.ATM.NOXE.KT.CE\",\"EN.ATM.METH.KT.CE\",\n",
    "\"AG.LND.AGRI.K2\", \"EN.ATM.GHGO.KT.CE\",\"AG.LND.AGRI.ZS\",\"AG.PRD.FOOD.XD\",\"IT.CEL.SETS\",\n",
    "\"AG.PRD.LVSK.XD\",\"AG.PRD.CROP.XD\",\"IT.MLT.MAIN\",\"EN.ATM.GHGT.KT.CE\",\"EN.ATM.CO2E.GF.ZS\",\n",
    "\"EN.ATM.CO2E.LF.ZS\",\"EN.ATM.CO2E.SF.ZS\",\"NY.GDP.FRST.RT.ZS\",\"NY.GDP.MINR.RT.ZS\",\"EN.ATM.CO2E.LF.KT\",\n",
    "\"EN.ATM.METH.AG.KT.CE\",\"EN.ATM.METH.EG.KT.CE\",\"EN.ATM.NOXE.AG.KT.CE\", \"EN.ATM.NOXE.EG.KT.CE\",\n",
    "\"NY.GDP.TOTL.RT.ZS\", \"EN.ATM.CO2E.KT\",\"EN.ATM.CO2E.PC\",\"NY.GDP.MKTP.CD\",\"NY.GDP.PCAP.CD\"]] \n",
    "\n",
    "\n",
    "# On transforme les variables sous forme de chaînes de caractères en variables binaires :\n",
    "# Ici, seul la variable country est concernée\n",
    "X2 = X.T.to_dict().values()\n",
    "from sklearn.feature_extraction import DictVectorizer\n",
    "prep = DictVectorizer()\n",
    "X3 = prep.fit_transform(X2).toarray()\n",
    "\n",
    "# on constitut nos deux échantillons \"train\" et \"test\" \n",
    "from sklearn.model_selection import train_test_split\n",
    "X_train, X_test, Y_train, Y_test = train_test_split(X3, Y2, test_size=0.3)"
   ]
  },
  {
   "cell_type": "code",
   "execution_count": 11,
   "metadata": {},
   "outputs": [
    {
     "name": "stdout",
     "output_type": "stream",
     "text": [
      "RandomForestClassifier(bootstrap=True, class_weight=None, criterion='gini',\n",
      "            max_depth=None, max_features='auto', max_leaf_nodes=None,\n",
      "            min_impurity_decrease=0.0, min_impurity_split=None,\n",
      "            min_samples_leaf=1, min_samples_split=2,\n",
      "            min_weight_fraction_leaf=0.0, n_estimators=10, n_jobs=1,\n",
      "            oob_score=False, random_state=None, verbose=0,\n",
      "            warm_start=False)\n"
     ]
    }
   ],
   "source": [
    "#importation de la classe GradientBoostingClassifier\n",
    "from sklearn.ensemble import RandomForestClassifier\n",
    "print(RandomForestClassifier())\n",
    "from sklearn import metrics"
   ]
  },
  {
   "cell_type": "markdown",
   "metadata": {},
   "source": [
    "Comme pour la régression, nous calculons le RMSE du modèle en faisant varier les paramètres suivants :\n",
    "\n",
    "- n_estimators : Le nombre d'arbres dans la forêt. (par défaut = 10)\n",
    "- max_depth : La profondeur maximale de l'arbre. (par défaut = None)\n",
    "- max_features : le nombre de variables tirées aléatoirement pour la recherche de la division optimale d’un nœud"
   ]
  },
  {
   "cell_type": "code",
   "execution_count": 22,
   "metadata": {},
   "outputs": [
    {
     "name": "stdout",
     "output_type": "stream",
     "text": [
      "n_estimators 1 erreur 4.32445693374 4.37693989703\n",
      "n_estimators 2 erreur 5.26882382737 5.27871650525\n",
      "n_estimators 3 erreur 4.92204215781 5.00633766497\n",
      "n_estimators 4 erreur 4.5101947937 4.608200282\n",
      "n_estimators 5 erreur 4.55177325656 4.71340531085\n",
      "n_estimators 6 erreur 4.04007300035 4.12864464673\n",
      "n_estimators 7 erreur 3.91793500342 4.10854513334\n",
      "n_estimators 8 erreur 5.36302508208 5.43064912424\n",
      "n_estimators 9 erreur 4.51695166271 4.60920949454\n",
      "n_estimators 10 erreur 4.46312138956 4.54225834936\n",
      "n_estimators 11 erreur 3.60485474938 3.75753268493\n",
      "n_estimators 12 erreur 3.68691636013 3.83599373602\n",
      "n_estimators 13 erreur 4.55113730728 4.65281187224\n",
      "n_estimators 14 erreur 4.59188592489 4.68129150566\n"
     ]
    },
    {
     "data": {
      "text/plain": [
       "<matplotlib.legend.Legend at 0x6500013fd0>"
      ]
     },
     "execution_count": 22,
     "metadata": {},
     "output_type": "execute_result"
    },
    {
     "data": {
      "image/png": "[encoded data removed]",
      "text/plain": [
       "<matplotlib.figure.Figure at 0x6504f96160>"
      ]
     },
     "metadata": {},
     "output_type": "display_data"
    }
   ],
   "source": [
    "# On cherche les parametres optimaux \n",
    "# on fait varier le nombre d'arbre dans la forêt..\n",
    "curves = []\n",
    "for n_estimators in range(1,15) :\n",
    "    \n",
    "\n",
    "    # Etape 1 : définition des paramètres\n",
    "    RFC= RandomForestClassifier(n_estimators = n_estimators, max_depth=10 )\n",
    "    \n",
    "    # Etape 2 : apprentissage\n",
    "    RFC = RFC.fit(X_train,  Y_train[\"Mortality_cat\"].ravel())  #attention c'est assez long à tourner\n",
    "\n",
    "    # Etape 3 : prédiction\n",
    "    Y_pred_train = RFC.predict(X_train)\n",
    "    Y_pred_test  = RFC.predict(X_test)\n",
    "\n",
    "    # Etape 4 : evaluation  (on calcule l'erreur)\n",
    "    err_train = metrics.mean_squared_error( Y_pred_train, Y_train)**0.5\n",
    "    err_test = metrics.mean_squared_error( Y_pred_test, Y_test)**0.5\n",
    "    \n",
    "    print(\"n_estimators\",n_estimators, \"erreur\",err_train ,err_test)\n",
    "    curves.append((n_estimators,err_train ,err_test, RFC)) \n",
    "\n",
    "plt.plot ( [c[0] for c in curves], [c[1] for c in curves], label=\"train\")\n",
    "plt.plot ( [c[0] for c in curves], [c[2] for c in curves], label=\"test\")\n",
    "\n",
    "plt.legend()\n",
    "# on garde la valeur par défaut n_estimators=10"
   ]
  },
  {
   "cell_type": "code",
   "execution_count": 23,
   "metadata": {},
   "outputs": [
    {
     "name": "stdout",
     "output_type": "stream",
     "text": [
      "max_depth 1 erreur 6.64777232307 6.56189738693\n",
      "max_depth 2 erreur 6.64777232307 6.56189738693\n",
      "max_depth 3 erreur 6.64167669683 6.5573430415\n",
      "max_depth 4 erreur 6.55275385158 6.47283438481\n",
      "max_depth 5 erreur 6.49516470502 6.41442220037\n",
      "max_depth 6 erreur 6.03161239687 6.02073786479\n",
      "max_depth 7 erreur 6.09641456191 6.06051769871\n",
      "max_depth 8 erreur 6.37872424449 6.30293681726\n",
      "max_depth 9 erreur 4.93012826392 4.99679682728\n",
      "max_depth 10 erreur 4.65432112199 4.76402927733\n",
      "max_depth 11 erreur 3.27016059458 3.58583727745\n",
      "max_depth 12 erreur 3.50477799484 3.84414616652\n",
      "max_depth 13 erreur 2.10917697482 2.75275110397\n",
      "max_depth 14 erreur 1.74665320648 2.57398572344\n",
      "max_depth 15 erreur 1.46847462605 2.51695502777\n",
      "max_depth 16 erreur 0.964223540332 2.277524941\n",
      "max_depth 17 erreur 0.969022576554 2.31279400297\n",
      "max_depth 18 erreur 0.792518885012 2.24873249928\n",
      "max_depth 19 erreur 0.735332995535 2.2367878835\n",
      "max_depth 20 erreur 0.700953411227 2.24090289751\n",
      "max_depth 21 erreur 0.637839667788 2.21708684106\n",
      "max_depth 22 erreur 0.665633944273 2.20555892259\n",
      "max_depth 23 erreur 0.665028914052 2.22317039005\n",
      "max_depth 24 erreur 0.665432328656 2.22288873924\n",
      "max_depth 25 erreur 0.656879417345 2.22951818599\n",
      "max_depth 26 erreur 0.64176450327 2.24397424084\n",
      "max_depth 27 erreur 0.684320641272 2.25294480319\n",
      "max_depth 28 erreur 0.660575093439 2.22911696259\n",
      "max_depth 29 erreur 0.647266674669 2.21306900448\n",
      "max_depth 30 erreur 0.628972576565 2.22873573346\n",
      "max_depth 31 erreur 0.682328927214 2.2189620291\n",
      "max_depth 32 erreur 0.644357863044 2.2114112898\n",
      "max_depth 33 erreur 0.629703586101 2.24918987602\n",
      "max_depth 34 erreur 0.63407194546 2.22399501936\n",
      "max_depth 35 erreur 0.674189523481 2.23316600625\n",
      "max_depth 36 erreur 0.690677732894 2.24231942911\n",
      "max_depth 37 erreur 0.611291542637 2.20991423595\n",
      "max_depth 38 erreur 0.616443887969 2.24231942911\n",
      "max_depth 39 erreur 0.62649912221 2.23138292712\n"
     ]
    },
    {
     "data": {
      "text/plain": [
       "<matplotlib.legend.Legend at 0x6503195e10>"
      ]
     },
     "execution_count": 23,
     "metadata": {},
     "output_type": "execute_result"
    },
    {
     "data": {
      "image/png": "[encoded data removed]",
      "text/plain": [
       "<matplotlib.figure.Figure at 0x650532c550>"
      ]
     },
     "metadata": {},
     "output_type": "display_data"
    }
   ],
   "source": [
    "# on fait varier a profondeur maximale de l'arbre.\n",
    "curves = []\n",
    "for max_depth in range(1,40) :\n",
    "\n",
    "    # Etape 1 : définition des paramètres\n",
    "    RFC= RandomForestClassifier(n_estimators = 10, max_depth=max_depth)\n",
    "    \n",
    "    # Etape 2 : apprentissage\n",
    "    RFC = RFC.fit(X_train,  Y_train[\"Mortality_cat\"].ravel())  #attention c'est assez long à tourner\n",
    "\n",
    "    # Etape 3 : prédiction\n",
    "    Y_pred_train = RFC.predict(X_train)\n",
    "    Y_pred_test  = RFC.predict(X_test)\n",
    "\n",
    "    # Etape 4 : evaluation  (on calcule l'erreur)\n",
    "    err_train = metrics.mean_squared_error( Y_pred_train, Y_train)**0.5\n",
    "    err_test = metrics.mean_squared_error( Y_pred_test, Y_test)**0.5\n",
    "    \n",
    "    print(\"max_depth\",max_depth, \"erreur\",err_train ,err_test)\n",
    "    curves.append((max_depth,err_train ,err_test, RFC)) \n",
    "\n",
    "plt.plot ( [c[0] for c in curves], [c[1] for c in curves], label=\"train\")\n",
    "plt.plot ( [c[0] for c in curves], [c[2] for c in curves], label=\"test\")\n",
    "\n",
    "plt.legend()  \n",
    "# on choisit max_depth = 20"
   ]
  },
  {
   "cell_type": "code",
   "execution_count": 27,
   "metadata": {},
   "outputs": [
    {
     "data": {
      "text/plain": [
       "<matplotlib.legend.Legend at 0x9544f31ba8>"
      ]
     },
     "execution_count": 27,
     "metadata": {},
     "output_type": "execute_result"
    },
    {
     "data": {
      "image/png": "[encoded data removed]",
      "text/plain": [
       "<matplotlib.figure.Figure at 0x953cd886d8>"
      ]
     },
     "metadata": {},
     "output_type": "display_data"
    }
   ],
   "source": [
    "# on fait varier le nombre de variables tirées aléatoirement pour la recherche de la division optimale d’un nœud.\n",
    "curves = []\n",
    "for max_features in range(1,80) :\n",
    "\n",
    "    # Etape 1 : définition des paramètres\n",
    "    RFC= RandomForestClassifier(n_estimators = 10, max_depth=20, max_features=max_features)\n",
    "    \n",
    "    # Etape 2 : apprentissage\n",
    "    RFC = RFC.fit(X_train,  Y_train[\"Mortality_cat\"].ravel())  #attention c'est assez long à tourner\n",
    "\n",
    "    # Etape 3 : prédiction\n",
    "    Y_pred_train = RFC.predict(X_train)\n",
    "    Y_pred_test  = RFC.predict(X_test)\n",
    "\n",
    "    # Etape 4 : evaluation  (on calcule l'erreur)\n",
    "    err_train = metrics.mean_squared_error( Y_pred_train, Y_train)**0.5\n",
    "    err_test = metrics.mean_squared_error( Y_pred_test, Y_test)**0.5\n",
    "    \n",
    "    #print(\"max_features\",max_features, \"erreur\",err_train ,err_test)\n",
    "    curves.append((max_features,err_train ,err_test, RFC)) \n",
    "\n",
    "plt.plot ( [c[0] for c in curves], [c[1] for c in curves], label=\"train\")\n",
    "plt.plot ( [c[0] for c in curves], [c[2] for c in curves], label=\"test\")\n",
    "\n",
    "plt.legend()  \n",
    "# on choisit max_depth = 70"
   ]
  },
  {
   "cell_type": "code",
   "execution_count": 17,
   "metadata": {},
   "outputs": [
    {
     "name": "stdout",
     "output_type": "stream",
     "text": [
      "RMSE_train 0.475596784886\n",
      "RMSE_test 1.786753084\n",
      "R2_train 0.980179420334\n",
      "R2_test 0.664669051878\n",
      "Wall time: 3.87 s\n"
     ]
    }
   ],
   "source": [
    "%%time\n",
    "# Le modèle final est le suivant :\n",
    "\n",
    "# Etape 1 : définition des paramètres\n",
    "RFC= RandomForestClassifier(n_estimators = 10, max_depth=20, max_features=70)\n",
    "\n",
    "# Etape 2 : apprentissage\n",
    "RFC = RFC.fit(X_train,  Y_train[\"Mortality_cat\"].ravel())  #attention c'est assez long à tourner\n",
    "\n",
    "# Etape 3 : prédiction\n",
    "Y_pred_train = RFC.predict(X_train)\n",
    "Y_pred_test  = RFC.predict(X_test)\n",
    "\n",
    "# Etape 4 : evaluation  (on calcule l'erreur)\n",
    "\n",
    "# on calcule l'erreur (RMSE)\n",
    "err_train = metrics.mean_squared_error( Y_pred_train, Y_train)**0.5\n",
    "err_test = metrics.mean_squared_error( Y_pred_test, Y_test)**0.5\n",
    "print(\"RMSE_train\", err_train)\n",
    "print(\"RMSE_test\", err_test)\n",
    "\n",
    "# R2\n",
    "R2_train = RFC.score(X_train, Y_train)\n",
    "R2_test = RFC.score(X_test, Y_test)\n",
    "print(\"R2_train\",R2_train)\n",
    "print(\"R2_test\",R2_test)"
   ]
  },
  {
   "cell_type": "markdown",
   "metadata": {
    "collapsed": true
   },
   "source": [
    "A présent, nous utilisons une méthode automatique de recherche des paramètres pour comparer les résultats."
   ]
  },
  {
   "cell_type": "code",
   "execution_count": null,
   "metadata": {
    "collapsed": true
   },
   "outputs": [],
   "source": [
    "#outil grille de recherche\n",
    "from sklearn.grid_search import GridSearchCV\n",
    "\n",
    "#combinaisons de paramètres à tester : Scikit-learn va évaluer toutes les combinaisons\n",
    "parametres = {\"max_depth\":[15,16,17,18,19,20,21,22,23,24,25],\"max_features\":[60,61,62,63,64,65,66,67,68,69,70,71,72,73,74,75,76,77,78,79,80]}\n",
    "\n",
    "#classifieur à utiliser – Random Forest\n",
    "RFC= RandomForestClassifier()\n",
    "#instanciation de la recherche\n",
    "grille = GridSearchCV(estimator=RFC,param_grid=parametres)\n",
    "\n",
    "#lancer l'exploration\n",
    "resultats = grille.fit(X_train,Y_train[\"Mortality_cat\"].ravel())\n",
    "print(resultats.best_params_)\n",
    "#prédiction avec le ‘’meilleur’’ modèle identifié\n",
    "Y_pred_train = resultats.predict(X_train)\n",
    "Y_pred_test = resultats.predict(X_test) \n",
    "#performances du ‘’meilleur’’ modèle : \n",
    "# RMSE\n",
    "err_train = metrics.mean_squared_error( Y_pred_train, Y_train)**0.5\n",
    "err_test = metrics.mean_squared_error( Y_pred_test, Y_test)**0.5\n",
    "print(err_train)\n",
    "print(err_test)\n",
    "# R2\n",
    "R2_train = resultats.score(X_test, Y_test)\n",
    "R2_test = resultats.score(X_test, Y_test)\n",
    "print(R2_train)\n",
    "print(R2_test)\n"
   ]
  },
  {
   "cell_type": "markdown",
   "metadata": {},
   "source": [
    " {'max_depth': 17, 'max_features': 77}\n",
    "\n",
    "    RMSE_train 0.544134072891\n",
    "    RMSE_test 1.75082398184\n",
    "    R2_train 0.965266063487\n",
    "    R2_test 0.965266063487\n",
    "   \n",
    "les résultats avec cette méthode sont pas stable et moins bons"
   ]
  },
  {
   "cell_type": "markdown",
   "metadata": {},
   "source": [
    "# Méthode Boosting : ici, nous allons voir l'algorithme de Gradient Boosting Machine (gbm) pour une classification."
   ]
  },
  {
   "cell_type": "markdown",
   "metadata": {},
   "source": [
    "# Gradient Bossting Machine Classification"
   ]
  },
  {
   "cell_type": "markdown",
   "metadata": {},
   "source": [
    "GB construit un modèle additif; il permet l'optimisation de fonctions de pertes différentiables arbitraires. A chaque étape, n_classes_ les arbres de régression sont ajustés sur le gradient négatif de la fonction de perte de déviance binomiale ou multinomiale. La classification binaire est un cas particulier où un seul arbre de régression est induit."
   ]
  },
  {
   "cell_type": "code",
   "execution_count": 16,
   "metadata": {},
   "outputs": [
    {
     "name": "stdout",
     "output_type": "stream",
     "text": [
      "Mortality_cat\n",
      "1       0.000000\n",
      "2       0.104974\n",
      "3       0.375507\n",
      "4       0.855722\n",
      "5       1.958020\n",
      "6       4.333836\n",
      "7       8.759500\n",
      "8      15.763014\n",
      "9      26.243081\n",
      "10     41.913380\n",
      "11     67.882232\n",
      "12    113.848249\n",
      "13    206.613198\n",
      "14    302.866096\n",
      "15    355.358866\n",
      "16    434.428403\n",
      "17    612.906082\n",
      "18    938.472516\n",
      "Name: Mortality_rate, dtype: float64\n"
     ]
    }
   ],
   "source": [
    "# on crée des tranches pour la variables taux de mortalité\n",
    "data['Mortality_rate'].describe()\n",
    "data.sort_values(by=['Mortality_rate'], ascending=False)\n",
    "data['Mortality_rate'].quantile([0,.1,.2,.3,.35,.4,.45,.5,.55,.6,.65,.7,.75,.8,.85,.9,.95,.96,.97,.98,.99,1])\n",
    "data[data['Mortality_rate']==0].count() # il y a 13051 lignes avec des zéros sur 37264 au total => il y a 35.0230786% avec des zéros\n",
    " \n",
    "# on crée 18 tranches\n",
    "data['Mortality_cat'] = pd.qcut(data['Mortality_rate'] , q = [0,0.350230786,0.4,.45,.5,.55,.6,.65,.7,.75,.8,.85,.9,.95,.96,.97,.98,.99,1], \n",
    "    labels = [1,2,3,4,5,6,7,8,9,10,11,12,13,14,15,16,17,18]) \n",
    "data.groupby(['Mortality_cat'])['Mortality_cat'].count()\n",
    "print(data.groupby(['Mortality_cat'])['Mortality_rate'].mean())"
   ]
  },
  {
   "cell_type": "code",
   "execution_count": 17,
   "metadata": {
    "collapsed": true
   },
   "outputs": [],
   "source": [
    "# variable à expliquer\n",
    "Y= data[\"Mortality_cat\"] \n",
    "type(Y)\n",
    "Y2 = pd.DataFrame({'Mortality_cat':Y})\n",
    "\n",
    "# variables explicatives\n",
    "X= data[[\"Sex\",\"Age_bucket\",\"Year\",\"Country\", \"SP.URB.TOTL.IN.ZS\",\"SP.URB.GROW\",\"SP.POP.GROW\",\"SE.PRM.DURS\",\n",
    "\"AG.SRF.TOTL.K2\",\"SE.PRE.DURS\",\"EN.POP.DNST\",\"SE.SEC.DURS\",\"SP.DYN.CBRT.IN\",\"SP.DYN.CDRT.IN\",\n",
    "\"NY.ADJ.AEDU.GN.ZS\", \"SP.DYN.TFRT.IN\", \"SP.ADO.TFRT\", \"SP.DYN.LE00.FE.IN\", \"SP.DYN.LE00.IN\",\n",
    "\"SP.POP.DPND\",\"SP.DYN.AMRT.FE\",\"SP.DYN.AMRT.MA\",\"EN.ATM.NOXE.KT.CE\",\"EN.ATM.METH.KT.CE\",\n",
    "\"AG.LND.AGRI.K2\", \"EN.ATM.GHGO.KT.CE\",\"AG.LND.AGRI.ZS\",\"AG.PRD.FOOD.XD\",\"IT.CEL.SETS\",\n",
    "\"AG.PRD.LVSK.XD\",\"AG.PRD.CROP.XD\",\"IT.MLT.MAIN\",\"EN.ATM.GHGT.KT.CE\",\"EN.ATM.CO2E.GF.ZS\",\n",
    "\"EN.ATM.CO2E.LF.ZS\",\"EN.ATM.CO2E.SF.ZS\",\"NY.GDP.FRST.RT.ZS\",\"NY.GDP.MINR.RT.ZS\",\"EN.ATM.CO2E.LF.KT\",\n",
    "\"EN.ATM.METH.AG.KT.CE\",\"EN.ATM.METH.EG.KT.CE\",\"EN.ATM.NOXE.AG.KT.CE\", \"EN.ATM.NOXE.EG.KT.CE\",\n",
    "\"NY.GDP.TOTL.RT.ZS\", \"EN.ATM.CO2E.KT\",\"EN.ATM.CO2E.PC\",\"NY.GDP.MKTP.CD\",\"NY.GDP.PCAP.CD\"]] \n",
    "\n",
    "# On transforme les variables sous forme de chaînes de caractères en variables binaires :\n",
    "# Ici, seul la variable country est concernée\n",
    "X2 = X.T.to_dict().values()\n",
    "from sklearn.feature_extraction import DictVectorizer\n",
    "prep = DictVectorizer()\n",
    "X3 = prep.fit_transform(X2).toarray()\n",
    "\n",
    "# on constitut nos deux échantillons \"train\" et \"test\" \n",
    "from sklearn.model_selection import train_test_split\n",
    "X_train, X_test, Y_train, Y_test = train_test_split(X3, Y2, test_size=0.3)"
   ]
  },
  {
   "cell_type": "code",
   "execution_count": 33,
   "metadata": {},
   "outputs": [
    {
     "name": "stdout",
     "output_type": "stream",
     "text": [
      "1.67401640698\n",
      "1.79067850744\n",
      "0.693911976691\n",
      "0.607602862254\n"
     ]
    }
   ],
   "source": [
    "#importation de la classe GradientBoostingClassifier\n",
    "from sklearn.ensemble import GradientBoostingClassifier\n",
    "from sklearn import metrics\n",
    "\n",
    "# Etape 1 : définition des paramètres\n",
    "GB = GradientBoostingClassifier(learning_rate=0.1,max_depth=3,subsample=1.0)\n",
    "\n",
    "# Etape 2 : apprentissage\n",
    "GB = GB.fit(X_train,  Y_train[\"Mortality_cat\"].ravel())  #attention c'est assez long à tourner 12 min\n",
    "\n",
    "# Etape 3 : prédiction\n",
    "Y_pred_train = GB.predict(X_train)\n",
    "Y_pred_test = GB.predict(X_test)\n",
    "\n",
    "# Etape 4 : evaluation  (on calcule l'erreur)\n",
    "\n",
    "# on calcule l'erreur (RMSE)\n",
    "err_train = metrics.mean_squared_error( Y_pred_train, Y_train)**0.5\n",
    "err_test = metrics.mean_squared_error( Y_pred_test, Y_test)**0.5\n",
    "print(err_train)\n",
    "print(err_test)\n",
    "\n",
    "# R2\n",
    "R2_train = GB.score(X_train, Y_train)\n",
    "R2_test = GB.score(X_test, Y_test)\n",
    "print(R2_train)\n",
    "print(R2_test)"
   ]
  },
  {
   "cell_type": "markdown",
   "metadata": {},
   "source": [
    "On pourrait certainement trouver de meilleurs résultats en testant d'autres paramètres, mais le temps de traitement est très long juste pour un seul algorithme. Je n'ai pas creusé cette piste."
   ]
  }
 ],
 "metadata": {
  "kernelspec": {
   "display_name": "Python 3",
   "language": "python",
   "name": "python3"
  },
  "language_info": {
   "codemirror_mode": {
    "name": "ipython",
    "version": 3
   },
   "file_extension": ".py",
   "mimetype": "text/x-python",
   "name": "python",
   "nbconvert_exporter": "python",
   "pygments_lexer": "ipython3",
   "version": "3.6.3"
  }
 },
 "nbformat": 4,
 "nbformat_minor": 2
}
