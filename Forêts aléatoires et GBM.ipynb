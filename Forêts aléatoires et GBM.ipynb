{
 "cells": [
  {
   "cell_type": "code",
   "execution_count": 3,
   "metadata": {},
   "outputs": [
    {
     "data": {
      "text/plain": [
       "'C:\\\\Users\\\\flora_000\\\\Desktop\\\\ENSAE\\\\Projet Python\\\\Data'"
      ]
     },
     "execution_count": 3,
     "metadata": {},
     "output_type": "execute_result"
    }
   ],
   "source": [
    "# on appelle les libraires\n",
    "import numpy as np \n",
    "import pandas as pd \n",
    "get_ipython().magic('matplotlib inline')\n",
    "import matplotlib.pyplot as plt\n",
    "import os\n",
    "os.chdir(\"C:/Users/flora_000/Desktop/ENSAE/Projet Python/Data\")\n",
    "os.getcwd()"
   ]
  },
  {
   "cell_type": "code",
   "execution_count": 4,
   "metadata": {},
   "outputs": [
    {
     "data": {
      "text/html": [
       "<div>\n",
       "<style>\n",
       "    .dataframe thead tr:only-child th {\n",
       "        text-align: right;\n",
       "    }\n",
       "\n",
       "    .dataframe thead th {\n",
       "        text-align: left;\n",
       "    }\n",
       "\n",
       "    .dataframe tbody tr th {\n",
       "        vertical-align: top;\n",
       "    }\n",
       "</style>\n",
       "<table border=\"1\" class=\"dataframe\">\n",
       "  <thead>\n",
       "    <tr style=\"text-align: right;\">\n",
       "      <th></th>\n",
       "      <th>Unnamed: 0</th>\n",
       "      <th>Cancer_code</th>\n",
       "      <th>Sex</th>\n",
       "      <th>Age_bucket</th>\n",
       "      <th>Location</th>\n",
       "      <th>Year</th>\n",
       "      <th>Nb_deaths</th>\n",
       "      <th>Country</th>\n",
       "      <th>Age_group</th>\n",
       "      <th>Population</th>\n",
       "      <th>...</th>\n",
       "      <th>EN.ATM.CO2E.LF.KT</th>\n",
       "      <th>EN.ATM.METH.AG.KT.CE</th>\n",
       "      <th>EN.ATM.METH.EG.KT.CE</th>\n",
       "      <th>EN.ATM.NOXE.AG.KT.CE</th>\n",
       "      <th>EN.ATM.NOXE.EG.KT.CE</th>\n",
       "      <th>NY.GDP.TOTL.RT.ZS</th>\n",
       "      <th>EN.ATM.CO2E.KT</th>\n",
       "      <th>EN.ATM.CO2E.PC</th>\n",
       "      <th>NY.GDP.MKTP.CD</th>\n",
       "      <th>NY.GDP.PCAP.CD</th>\n",
       "    </tr>\n",
       "  </thead>\n",
       "  <tbody>\n",
       "    <tr>\n",
       "      <th>0</th>\n",
       "      <td>0</td>\n",
       "      <td>C33,C34</td>\n",
       "      <td>1</td>\n",
       "      <td>1</td>\n",
       "      <td>Antigua and Barbuda</td>\n",
       "      <td>2000</td>\n",
       "      <td>0</td>\n",
       "      <td>Antigua and Barbuda</td>\n",
       "      <td>1</td>\n",
       "      <td>3796.0</td>\n",
       "      <td>...</td>\n",
       "      <td>344.698</td>\n",
       "      <td>23.119577</td>\n",
       "      <td>1.025246</td>\n",
       "      <td>11.202249</td>\n",
       "      <td>2.045597</td>\n",
       "      <td>0.0</td>\n",
       "      <td>344.698</td>\n",
       "      <td>4.439239</td>\n",
       "      <td>7.838379e+08</td>\n",
       "      <td>10094.759065</td>\n",
       "    </tr>\n",
       "    <tr>\n",
       "      <th>1</th>\n",
       "      <td>1</td>\n",
       "      <td>C33,C34</td>\n",
       "      <td>2</td>\n",
       "      <td>3</td>\n",
       "      <td>Antigua and Barbuda</td>\n",
       "      <td>2000</td>\n",
       "      <td>0</td>\n",
       "      <td>Antigua and Barbuda</td>\n",
       "      <td>3</td>\n",
       "      <td>3993.0</td>\n",
       "      <td>...</td>\n",
       "      <td>344.698</td>\n",
       "      <td>23.119577</td>\n",
       "      <td>1.025246</td>\n",
       "      <td>11.202249</td>\n",
       "      <td>2.045597</td>\n",
       "      <td>0.0</td>\n",
       "      <td>344.698</td>\n",
       "      <td>4.439239</td>\n",
       "      <td>7.838379e+08</td>\n",
       "      <td>10094.759065</td>\n",
       "    </tr>\n",
       "    <tr>\n",
       "      <th>2</th>\n",
       "      <td>2</td>\n",
       "      <td>C33,C34</td>\n",
       "      <td>2</td>\n",
       "      <td>4</td>\n",
       "      <td>Antigua and Barbuda</td>\n",
       "      <td>2000</td>\n",
       "      <td>0</td>\n",
       "      <td>Antigua and Barbuda</td>\n",
       "      <td>4</td>\n",
       "      <td>3169.0</td>\n",
       "      <td>...</td>\n",
       "      <td>344.698</td>\n",
       "      <td>23.119577</td>\n",
       "      <td>1.025246</td>\n",
       "      <td>11.202249</td>\n",
       "      <td>2.045597</td>\n",
       "      <td>0.0</td>\n",
       "      <td>344.698</td>\n",
       "      <td>4.439239</td>\n",
       "      <td>7.838379e+08</td>\n",
       "      <td>10094.759065</td>\n",
       "    </tr>\n",
       "    <tr>\n",
       "      <th>3</th>\n",
       "      <td>3</td>\n",
       "      <td>C33,C34</td>\n",
       "      <td>2</td>\n",
       "      <td>5</td>\n",
       "      <td>Antigua and Barbuda</td>\n",
       "      <td>2000</td>\n",
       "      <td>0</td>\n",
       "      <td>Antigua and Barbuda</td>\n",
       "      <td>5</td>\n",
       "      <td>2611.0</td>\n",
       "      <td>...</td>\n",
       "      <td>344.698</td>\n",
       "      <td>23.119577</td>\n",
       "      <td>1.025246</td>\n",
       "      <td>11.202249</td>\n",
       "      <td>2.045597</td>\n",
       "      <td>0.0</td>\n",
       "      <td>344.698</td>\n",
       "      <td>4.439239</td>\n",
       "      <td>7.838379e+08</td>\n",
       "      <td>10094.759065</td>\n",
       "    </tr>\n",
       "    <tr>\n",
       "      <th>4</th>\n",
       "      <td>4</td>\n",
       "      <td>C33,C34</td>\n",
       "      <td>2</td>\n",
       "      <td>6</td>\n",
       "      <td>Antigua and Barbuda</td>\n",
       "      <td>2000</td>\n",
       "      <td>0</td>\n",
       "      <td>Antigua and Barbuda</td>\n",
       "      <td>6</td>\n",
       "      <td>3549.0</td>\n",
       "      <td>...</td>\n",
       "      <td>344.698</td>\n",
       "      <td>23.119577</td>\n",
       "      <td>1.025246</td>\n",
       "      <td>11.202249</td>\n",
       "      <td>2.045597</td>\n",
       "      <td>0.0</td>\n",
       "      <td>344.698</td>\n",
       "      <td>4.439239</td>\n",
       "      <td>7.838379e+08</td>\n",
       "      <td>10094.759065</td>\n",
       "    </tr>\n",
       "  </tbody>\n",
       "</table>\n",
       "<p>5 rows × 57 columns</p>\n",
       "</div>"
      ],
      "text/plain": [
       "   Unnamed: 0 Cancer_code  Sex  Age_bucket             Location  Year  \\\n",
       "0           0     C33,C34    1           1  Antigua and Barbuda  2000   \n",
       "1           1     C33,C34    2           3  Antigua and Barbuda  2000   \n",
       "2           2     C33,C34    2           4  Antigua and Barbuda  2000   \n",
       "3           3     C33,C34    2           5  Antigua and Barbuda  2000   \n",
       "4           4     C33,C34    2           6  Antigua and Barbuda  2000   \n",
       "\n",
       "   Nb_deaths              Country  Age_group  Population       ...        \\\n",
       "0          0  Antigua and Barbuda          1      3796.0       ...         \n",
       "1          0  Antigua and Barbuda          3      3993.0       ...         \n",
       "2          0  Antigua and Barbuda          4      3169.0       ...         \n",
       "3          0  Antigua and Barbuda          5      2611.0       ...         \n",
       "4          0  Antigua and Barbuda          6      3549.0       ...         \n",
       "\n",
       "   EN.ATM.CO2E.LF.KT EN.ATM.METH.AG.KT.CE  EN.ATM.METH.EG.KT.CE  \\\n",
       "0            344.698            23.119577              1.025246   \n",
       "1            344.698            23.119577              1.025246   \n",
       "2            344.698            23.119577              1.025246   \n",
       "3            344.698            23.119577              1.025246   \n",
       "4            344.698            23.119577              1.025246   \n",
       "\n",
       "   EN.ATM.NOXE.AG.KT.CE  EN.ATM.NOXE.EG.KT.CE  NY.GDP.TOTL.RT.ZS  \\\n",
       "0             11.202249              2.045597                0.0   \n",
       "1             11.202249              2.045597                0.0   \n",
       "2             11.202249              2.045597                0.0   \n",
       "3             11.202249              2.045597                0.0   \n",
       "4             11.202249              2.045597                0.0   \n",
       "\n",
       "   EN.ATM.CO2E.KT  EN.ATM.CO2E.PC  NY.GDP.MKTP.CD  NY.GDP.PCAP.CD  \n",
       "0         344.698        4.439239    7.838379e+08    10094.759065  \n",
       "1         344.698        4.439239    7.838379e+08    10094.759065  \n",
       "2         344.698        4.439239    7.838379e+08    10094.759065  \n",
       "3         344.698        4.439239    7.838379e+08    10094.759065  \n",
       "4         344.698        4.439239    7.838379e+08    10094.759065  \n",
       "\n",
       "[5 rows x 57 columns]"
      ]
     },
     "execution_count": 4,
     "metadata": {},
     "output_type": "execute_result"
    }
   ],
   "source": [
    "# on importe la base de donnée finale\n",
    "data= pd.read_csv('data_2000.csv',delimiter=',',low_memory=False)\n",
    "data.describe()\n",
    "data.head()"
   ]
  },
  {
   "cell_type": "code",
   "execution_count": 5,
   "metadata": {
    "collapsed": true
   },
   "outputs": [],
   "source": [
    "# Attention me mettre en phase avec Assitan \n",
    "data['Mortality_rate2'] = data['Nb_deaths'] / data['Population'] * 100"
   ]
  },
  {
   "cell_type": "markdown",
   "metadata": {},
   "source": [
    "#  Méthode Bagging : ici, nous allons voir l'algorithme de forêt aléatoire pour une classification et pour une régression."
   ]
  },
  {
   "cell_type": "markdown",
   "metadata": {},
   "source": [
    "# Forêts alétoires Régression "
   ]
  },
  {
   "cell_type": "markdown",
   "metadata": {},
   "source": [
    "L’algorithme d’agrégation de modèles le plus utilisé est celui des forêts aléatoires (bagging), ce qui ne signifie \n",
    "pas qu’il conduit toujours à la meilleure prévision. L'objectif de la forêt aléatoire est de réduire le rique de sur-apprentissage (en comparaison de l'arbre de décision).\n",
    "\n",
    "Plus que le nombre d’arbres n_estimators, le paramètre à optimiser est le nombre de variables tirées aléatoirement pour la recherche de la division optimale d’un nœud : max_features. Par défaut, il prend la valeur p/3 en pour la régression et √p pour la classification. "
   ]
  },
  {
   "cell_type": "code",
   "execution_count": 6,
   "metadata": {
    "collapsed": true
   },
   "outputs": [],
   "source": [
    "# variable à expliquer\n",
    "Y= data[[\"Mortality_rate2\"]] \n",
    "Y.mean()\n",
    "# variables explicatives\n",
    "X= data[[\"Sex\",\"Age_bucket\",\"Year\",\"Country\", \"SP.URB.TOTL.IN.ZS\",\"SP.URB.GROW\",\"SP.POP.GROW\",\"SE.PRM.DURS\",\n",
    "\"AG.SRF.TOTL.K2\",\"SE.PRE.DURS\",\"EN.POP.DNST\",\"SE.SEC.DURS\",\"SP.DYN.CBRT.IN\",\"SP.DYN.CDRT.IN\",\n",
    "\"NY.ADJ.AEDU.GN.ZS\", \"SP.DYN.TFRT.IN\", \"SP.ADO.TFRT\", \"SP.DYN.LE00.FE.IN\", \"SP.DYN.LE00.IN\",\n",
    "\"SP.POP.DPND\",\"SP.DYN.AMRT.FE\",\"SP.DYN.AMRT.MA\",\"EN.ATM.NOXE.KT.CE\",\"EN.ATM.METH.KT.CE\",\n",
    "\"AG.LND.AGRI.K2\", \"EN.ATM.GHGO.KT.CE\",\"AG.LND.AGRI.ZS\",\"AG.PRD.FOOD.XD\",\"IT.CEL.SETS\",\n",
    "\"AG.PRD.LVSK.XD\",\"AG.PRD.CROP.XD\",\"IT.MLT.MAIN\",\"EN.ATM.GHGT.KT.CE\",\"EN.ATM.CO2E.GF.ZS\",\n",
    "\"EN.ATM.CO2E.LF.ZS\",\"EN.ATM.CO2E.SF.ZS\",\"NY.GDP.FRST.RT.ZS\",\"NY.GDP.MINR.RT.ZS\",\"EN.ATM.CO2E.LF.KT\",\n",
    "\"EN.ATM.METH.AG.KT.CE\",\"EN.ATM.METH.EG.KT.CE\",\"EN.ATM.NOXE.AG.KT.CE\", \"EN.ATM.NOXE.EG.KT.CE\",\n",
    "\"NY.GDP.TOTL.RT.ZS\", \"EN.ATM.CO2E.KT\",\"EN.ATM.CO2E.PC\",\"NY.GDP.MKTP.CD\",\"NY.GDP.PCAP.CD\"]] \n",
    "\n",
    "# On transforme les variables sous forme de chaînes de caractères en variables binaires :\n",
    " # Ici, seul la variable country est concernée\n",
    "X2 = X.T.to_dict().values()\n",
    "from sklearn.feature_extraction import DictVectorizer\n",
    "prep = DictVectorizer()\n",
    "X3 = prep.fit_transform(X2).toarray()\n",
    "\n",
    "# on constitut nos deux échantillons \"train\" et \"test\" \n",
    "from sklearn.model_selection import train_test_split\n",
    "X_train, X_test, Y_train, Y_test = train_test_split(X3, Y, test_size=0.3)"
   ]
  },
  {
   "cell_type": "markdown",
   "metadata": {
    "collapsed": true
   },
   "source": [
    "Nous allons calculer le RMSE du modèle en faisant varier les paramètres suivants :\n",
    "- n_estimators :  Le nombre d'arbres dans la forêt. (par défaut = 10)\n",
    "- max_depth : La profondeur maximale de l'arbre. (par défaut = None)\n",
    "- max_features : le nombre de variables tirées aléatoirement pour la recherche de la division optimale d’un nœud"
   ]
  },
  {
   "cell_type": "code",
   "execution_count": 7,
   "metadata": {
    "collapsed": true
   },
   "outputs": [],
   "source": [
    "from sklearn.ensemble import RandomForestRegressor\n",
    "from sklearn import metrics"
   ]
  },
  {
   "cell_type": "code",
   "execution_count": 14,
   "metadata": {},
   "outputs": [
    {
     "name": "stdout",
     "output_type": "stream",
     "text": [
      "n_estimators 1 erreur 0.103458167437 0.104576304246\n",
      "n_estimators 2 erreur 0.103455514297 0.104575656319\n",
      "n_estimators 3 erreur 0.103454380592 0.104582968004\n",
      "n_estimators 4 erreur 0.103472774271 0.104584493372\n",
      "n_estimators 5 erreur 0.103453083328 0.104577386859\n",
      "n_estimators 6 erreur 0.10345421002 0.10458240094\n",
      "n_estimators 7 erreur 0.10345293999 0.104578686645\n",
      "n_estimators 8 erreur 0.103452968794 0.104579140185\n",
      "n_estimators 9 erreur 0.103452951858 0.104577985198\n",
      "n_estimators 10 erreur 0.103457314473 0.104576063314\n",
      "n_estimators 11 erreur 0.103452883965 0.104577867325\n",
      "n_estimators 12 erreur 0.103452907941 0.104576918658\n",
      "n_estimators 13 erreur 0.103454539725 0.104576385863\n",
      "n_estimators 14 erreur 0.103455224757 0.104584147799\n",
      "n_estimators 15 erreur 0.103452910703 0.104577080188\n",
      "n_estimators 16 erreur 0.103453826386 0.104576266132\n",
      "n_estimators 17 erreur 0.103452876161 0.104578602872\n",
      "n_estimators 18 erreur 0.103453665868 0.104576041985\n",
      "n_estimators 19 erreur 0.103453038958 0.104578561832\n"
     ]
    },
    {
     "data": {
      "text/plain": [
       "<matplotlib.legend.Legend at 0x83f9259e48>"
      ]
     },
     "execution_count": 14,
     "metadata": {},
     "output_type": "execute_result"
    },
    {
     "data": {
      "image/png": "[encoded data removed]",
      "text/plain": [
       "<matplotlib.figure.Figure at 0x83fa402978>"
      ]
     },
     "metadata": {},
     "output_type": "display_data"
    }
   ],
   "source": [
    "# on fait varier le nombre d'arbre dans la forêt.\n",
    "curves = []\n",
    "for n_estimators in range(1,20) :\n",
    "    \n",
    "    # définition des paramètres\n",
    "    clf = RandomForestRegressor(n_estimators=n_estimators,max_depth=1)\n",
    "    # apprentissage\n",
    "    clf = clf.fit(X_train, Y_train[\"Mortality_rate2\"].ravel())\n",
    "    \n",
    "    # on calcule l'erreur (MSE)\n",
    "    err_train = metrics.mean_squared_error( clf.predict(X_train), Y_train)**0.5\n",
    "    err_test = metrics.mean_squared_error( clf.predict(X_test), Y_test)**0.5\n",
    "    print(\"n_estimators\",n_estimators, \"erreur\", err_train, err_test)\n",
    "    curves.append((n_estimators,  err_train, err_test, clf) )\n",
    "\n",
    "plt.plot ( [c[0] for c in curves], [c[1] for c in curves], label=\"train\")\n",
    "plt.plot ( [c[0] for c in curves], [c[2] for c in curves], label=\"test\")\n",
    "\n",
    "plt.legend()\n",
    "# Le modèle ne varie pas en fonction de ce paramètre, on choisit de garder la valeur par défaut n_estimators = 10"
   ]
  },
  {
   "cell_type": "code",
   "execution_count": 15,
   "metadata": {},
   "outputs": [
    {
     "name": "stdout",
     "output_type": "stream",
     "text": [
      "max_depth 1 erreur 0.103453966518 0.104581683049\n",
      "max_depth 2 erreur 0.0839275874665 0.0865836579471\n",
      "max_depth 3 erreur 0.0639000895454 0.0688046276765\n",
      "max_depth 4 erreur 0.0533028219955 0.0583047658244\n",
      "max_depth 5 erreur 0.0450711431775 0.0507640041599\n",
      "max_depth 6 erreur 0.0371112685715 0.0449065949353\n",
      "max_depth 7 erreur 0.0307432207757 0.0390978314945\n",
      "max_depth 8 erreur 0.0257587479055 0.0353254914219\n",
      "max_depth 9 erreur 0.0224214668921 0.0337753103872\n",
      "max_depth 10 erreur 0.0196744112445 0.0321655528534\n",
      "max_depth 11 erreur 0.0181114931439 0.0315844684661\n",
      "max_depth 12 erreur 0.0155262998134 0.0309592652356\n",
      "max_depth 13 erreur 0.014509308602 0.0302253810972\n",
      "max_depth 14 erreur 0.0133996687362 0.0300695944047\n",
      "max_depth 15 erreur 0.0131343492771 0.0300334332729\n",
      "max_depth 16 erreur 0.0136978254939 0.0313672192207\n",
      "max_depth 17 erreur 0.0129055234413 0.0314619072061\n",
      "max_depth 18 erreur 0.0126323395808 0.0313142425786\n",
      "max_depth 19 erreur 0.0124250430326 0.0316121652439\n",
      "max_depth 20 erreur 0.0130686003234 0.0305217727174\n",
      "max_depth 21 erreur 0.0120873834446 0.0304276604005\n",
      "max_depth 22 erreur 0.0124503904962 0.0305999069204\n",
      "max_depth 23 erreur 0.0125557045097 0.0301368943563\n",
      "max_depth 24 erreur 0.0118834214244 0.0301550359444\n",
      "max_depth 25 erreur 0.0129048219127 0.0316824174697\n",
      "max_depth 26 erreur 0.012595165761 0.030517608689\n",
      "max_depth 27 erreur 0.0119497603978 0.0299845706197\n",
      "max_depth 28 erreur 0.0121827796033 0.0316075927455\n",
      "max_depth 29 erreur 0.0121644174398 0.0325966026746\n"
     ]
    },
    {
     "data": {
      "text/plain": [
       "<matplotlib.legend.Legend at 0x83f91c1748>"
      ]
     },
     "execution_count": 15,
     "metadata": {},
     "output_type": "execute_result"
    },
    {
     "data": {
      "image/png": "[encoded data removed]",
      "text/plain": [
       "<matplotlib.figure.Figure at 0x83fa461748>"
      ]
     },
     "metadata": {},
     "output_type": "display_data"
    }
   ],
   "source": [
    "# on fait varier a profondeur maximale de l'arbre.\n",
    "curves = []\n",
    "for max_depth in range(1,30) :\n",
    "  \n",
    "    # définition des paramètres\n",
    "    clf = RandomForestRegressor(n_estimators=10,max_depth=max_depth)\n",
    "    # apprentissage\n",
    "    clf = clf.fit(X_train, Y_train[\"Mortality_rate2\"].ravel())\n",
    "    \n",
    "    # on calcule l'erreur (MSE)\n",
    "    err_train = metrics.mean_squared_error( clf.predict(X_train), Y_train)**0.5\n",
    "    err_test = metrics.mean_squared_error( clf.predict(X_test), Y_test)**0.5\n",
    "    print(\"max_depth\",max_depth, \"erreur\", err_train, err_test)\n",
    "    curves.append((max_depth,  err_train, err_test, clf) )\n",
    "\n",
    "plt.plot ( [c[0] for c in curves], [c[1] for c in curves], label=\"train\")\n",
    "plt.plot ( [c[0] for c in curves], [c[2] for c in curves], label=\"test\")\n",
    "\n",
    "plt.legend()\n",
    "# on choisit max_depth = 15"
   ]
  },
  {
   "cell_type": "code",
   "execution_count": 17,
   "metadata": {},
   "outputs": [
    {
     "name": "stdout",
     "output_type": "stream",
     "text": [
      "max_features 30 erreur 0.0217034603381 0.0400371537215\n",
      "max_features 31 erreur 0.0189864204344 0.0393989326798\n",
      "max_features 32 erreur 0.0195354199938 0.0369932471573\n",
      "max_features 33 erreur 0.0184578625693 0.0372174893516\n",
      "max_features 34 erreur 0.0182713827141 0.0363762566337\n",
      "max_features 35 erreur 0.0164727520755 0.0374938363048\n",
      "max_features 36 erreur 0.0176926574506 0.0349098399055\n",
      "max_features 37 erreur 0.0175425910999 0.0360933650182\n",
      "max_features 38 erreur 0.0202669014068 0.0380370994346\n",
      "max_features 39 erreur 0.0187192312314 0.0352585385728\n",
      "max_features 40 erreur 0.0162059880475 0.0346712604875\n",
      "max_features 41 erreur 0.0159905794656 0.0338504620343\n",
      "max_features 42 erreur 0.0161165973142 0.033412965954\n",
      "max_features 43 erreur 0.0159675290713 0.0341891125347\n",
      "max_features 44 erreur 0.0164720868108 0.0339723778218\n",
      "max_features 45 erreur 0.0158295003425 0.0335215904935\n",
      "max_features 46 erreur 0.0157025868602 0.0345186111642\n",
      "max_features 47 erreur 0.0152566345602 0.0327591947299\n",
      "max_features 48 erreur 0.0154138196478 0.0327095718982\n",
      "max_features 49 erreur 0.0144239410698 0.0325763786835\n",
      "max_features 50 erreur 0.0143058274378 0.031639040471\n",
      "max_features 51 erreur 0.0140249691755 0.0328412757489\n",
      "max_features 52 erreur 0.0140457693183 0.0330014451282\n",
      "max_features 53 erreur 0.014172988675 0.0322503185208\n",
      "max_features 54 erreur 0.0144801312069 0.0321301593021\n",
      "max_features 55 erreur 0.0141454255814 0.0338053962352\n",
      "max_features 56 erreur 0.0144257293737 0.0321427046094\n",
      "max_features 57 erreur 0.0137584580335 0.0310785472428\n",
      "max_features 58 erreur 0.0140769663098 0.0315876793983\n",
      "max_features 59 erreur 0.0142375627671 0.0327784190129\n",
      "max_features 60 erreur 0.0140707138452 0.0308651900906\n",
      "max_features 61 erreur 0.0137612441341 0.0316676234373\n",
      "max_features 62 erreur 0.0141817637592 0.0309172640338\n",
      "max_features 63 erreur 0.014094763221 0.0317108259014\n",
      "max_features 64 erreur 0.0136057160367 0.0305539968649\n",
      "max_features 65 erreur 0.0139661380407 0.0310832109607\n",
      "max_features 66 erreur 0.0133182704944 0.0324515268417\n",
      "max_features 67 erreur 0.0137002850261 0.0318219117895\n",
      "max_features 68 erreur 0.0135986919237 0.0316243415504\n",
      "max_features 69 erreur 0.0146336681168 0.0316439971951\n",
      "max_features 70 erreur 0.0138460890356 0.0313441960941\n",
      "max_features 71 erreur 0.0133409766208 0.0314345863571\n",
      "max_features 72 erreur 0.0134762502044 0.0313833690865\n",
      "max_features 73 erreur 0.0135922552959 0.0319827629467\n",
      "max_features 74 erreur 0.0135042481261 0.0304174105321\n",
      "max_features 75 erreur 0.0132628433884 0.0306045884158\n",
      "max_features 76 erreur 0.0137993496671 0.0306494288144\n",
      "max_features 77 erreur 0.0135819118974 0.0316435351473\n",
      "max_features 78 erreur 0.0134542677508 0.0307289146749\n",
      "max_features 79 erreur 0.0132278816864 0.0309656577734\n"
     ]
    },
    {
     "data": {
      "text/plain": [
       "<matplotlib.legend.Legend at 0x83f8d57ef0>"
      ]
     },
     "execution_count": 17,
     "metadata": {},
     "output_type": "execute_result"
    },
    {
     "data": {
      "image/png": "[encoded data removed]",
      "text/plain": [
       "<matplotlib.figure.Figure at 0x83fa53f320>"
      ]
     },
     "metadata": {},
     "output_type": "display_data"
    }
   ],
   "source": [
    "# on fait varier le nombre de variables tirées aléatoirement pour la recherche de la division optimale d’un nœud.\n",
    "curves = []\n",
    "for max_features in range(30,80) :\n",
    "    \n",
    "    # définition des paramètres\n",
    "    clf = RandomForestRegressor(n_estimators=10,max_depth=15,max_features=max_features)\n",
    "    # apprentissage\n",
    "    clf = clf.fit(X_train, Y_train[\"Mortality_rate2\"].ravel())\n",
    "    \n",
    "    # on calcule l'erreur (MSE)\n",
    "    err_train = metrics.mean_squared_error( clf.predict(X_train), Y_train)**0.5\n",
    "    err_test = metrics.mean_squared_error( clf.predict(X_test), Y_test)**0.5\n",
    "    print(\"max_features\",max_features, \"erreur\", err_train, err_test)\n",
    "    curves.append((max_features, err_train, err_test, clf) )\n",
    "\n",
    "plt.plot ( [c[0] for c in curves], [c[1] for c in curves], label=\"train\")\n",
    "plt.plot ( [c[0] for c in curves], [c[2] for c in curves], label=\"test\")\n",
    "\n",
    "plt.legend()\n",
    "# on garde max_features = 80"
   ]
  },
  {
   "cell_type": "code",
   "execution_count": 8,
   "metadata": {},
   "outputs": [
    {
     "name": "stdout",
     "output_type": "stream",
     "text": [
      "RMSE_train 0.01348727709\n",
      "RMSE_test 0.0282030485771\n",
      "R2_train 0.990151639827\n",
      "R2_test 0.990151639827\n"
     ]
    }
   ],
   "source": [
    "# le modèle final est le suivant :\n",
    "RF = RandomForestRegressor(n_estimators=10,max_depth=15,max_features=80)\n",
    "RF = RF.fit(X_train, Y_train[\"Mortality_rate2\"].ravel())\n",
    "# RMSE\n",
    "err_train = metrics.mean_squared_error( RF.predict(X_train), Y_train)**0.5\n",
    "err_test = metrics.mean_squared_error( RF.predict(X_test), Y_test)**0.5\n",
    "print(\"RMSE_train\", err_train)\n",
    "print(\"RMSE_test\", err_test)\n",
    "# R2\n",
    "R2_train = RF.score(X_train , Y_train)\n",
    "R2_test = RF.score(X_test, Y_test)\n",
    "print(\"R2_train\",R2_train)\n",
    "print(\"R2_test\",R2_train)"
   ]
  },
  {
   "cell_type": "markdown",
   "metadata": {},
   "source": [
    "A présent, nous utilisons une méthode automatique de recherche des paramètres pour comparer les résultats."
   ]
  },
  {
   "cell_type": "code",
   "execution_count": null,
   "metadata": {
    "collapsed": true
   },
   "outputs": [],
   "source": [
    "#outil grille de recherche\n",
    "from sklearn.grid_search import GridSearchCV\n",
    "\n",
    "#combinaisons de paramètres à tester : Scikit-learn va évaluer toutes les combinaisons\n",
    "# comme le modèle ne varie pas en fonction de n_estimators, on fait varier uniquement max_depth et max_features.\n",
    "#parametres = {\"max_depth\":[10],\"max_features\":[70]}\n",
    "parametres = {\"max_depth\":[10,11,12,13,14,15,16,17,18,19,20],\"max_features\":[70,71,72,73,74,75,76,77,78,79,80,81,82,83,84,85,86,87,88,89,90]}\n",
    "\n",
    "#classifieur à utiliser – Random Forest\n",
    "RF = RandomForestRegressor()\n",
    "#instanciation de la recherche\n",
    "grille = GridSearchCV(estimator=RF,param_grid=parametres)\n",
    "\n",
    "#lancer l'exploration\n",
    "resultats = grille.fit(X_train, Y_train)\n",
    "#meilleur paramétrage : \n",
    "print(resultats.best_params_)\n",
    "#prédiction avec le ‘’meilleur’’ modèle identifié\n",
    "Y_pred_train = resultats.predict(X_train)\n",
    "Y_pred_test = resultats.predict(X_test) \n",
    "#performances du ‘’meilleur’’ modèle : taux d’erreur = 0.065\n",
    "# RMSE\n",
    "err_train = metrics.mean_squared_error( Y_pred_train, Y_train)**0.5\n",
    "err_test = metrics.mean_squared_error( Y_pred_test, Y_test)**0.5\n",
    "# R2\n",
    "R2_train = resultats.score(X_test, Y_test)\n",
    "R2_test = resultats.score(X_test, Y_test)"
   ]
  },
  {
   "cell_type": "markdown",
   "metadata": {},
   "source": [
    "{'max_depth': 18, 'max_features': 80}\n",
    "RMSE_train 0.0134576568011\n",
    "RMSE_test 0.0294560944794\n",
    "R2_train 0.952815291509\n",
    "R2_test 0.952815291509\n",
    "\n",
    "Les résultats ne sont pas meilleurs que la méthode manuelle. De plus, ils ne sont pas toujours très stables."
   ]
  },
  {
   "cell_type": "markdown",
   "metadata": {},
   "source": [
    "# Forêts alétoires Classification"
   ]
  },
  {
   "cell_type": "markdown",
   "metadata": {},
   "source": [
    "Une forêt aléatoire est un méta-estimateur qui correspond à un certain nombre de classificateurs d'arbres de décision sur divers sous-échantillons de l'ensemble de données et utilise la moyenne pour  améliorer la précision prédictive et contrôler le sur-ajustement. La taille du sous-échantillon est toujours la même que celle de l'échantillon original, mais les échantillons sont remplacés si bootstrap = True (par défaut)."
   ]
  },
  {
   "cell_type": "code",
   "execution_count": 15,
   "metadata": {},
   "outputs": [
    {
     "name": "stdout",
     "output_type": "stream",
     "text": [
      "Mortality_cat\n",
      "1     13051\n",
      "2      1855\n",
      "3      1863\n",
      "4      1863\n",
      "5      1863\n",
      "6      1863\n",
      "7      1863\n",
      "8      1864\n",
      "9      1863\n",
      "10     1863\n",
      "11     1863\n",
      "12     1863\n",
      "13     1863\n",
      "14      373\n",
      "15      373\n",
      "16      372\n",
      "17      373\n",
      "18      373\n",
      "Name: Mortality_cat, dtype: int64\n",
      "Mortality_cat\n",
      "1     0.000000\n",
      "2     0.000105\n",
      "3     0.000376\n",
      "4     0.000856\n",
      "5     0.001958\n",
      "6     0.004334\n",
      "7     0.008759\n",
      "8     0.015763\n",
      "9     0.026243\n",
      "10    0.041913\n",
      "11    0.067882\n",
      "12    0.113848\n",
      "13    0.206613\n",
      "14    0.302866\n",
      "15    0.355359\n",
      "16    0.434428\n",
      "17    0.612906\n",
      "18    0.938473\n",
      "Name: Mortality_rate2, dtype: float64\n"
     ]
    }
   ],
   "source": [
    "# on crée des tranches pour la variables taux de mortalité\n",
    "data['Mortality_rate2'].describe()\n",
    "data.sort_values(by=['Mortality_rate2'], ascending=False)\n",
    "data['Mortality_rate2'].quantile([0,.1,.2,.3,.35,.4,.45,.5,.55,.6,.65,.7,.75,.8,.85,.9,.95,.96,.97,.98,.99,1])\n",
    "data[data['Mortality_rate2']==0].count() # il y a 13051 lignes avec des zéros sur 37264 au total => il y a 35.0230786% avec des zéros\n",
    " \n",
    "# on crée 18 tranches\n",
    "data['Mortality_cat'] = pd.qcut(data['Mortality_rate2'] , q = [0,0.350230786,0.4,.45,.5,.55,.6,.65,.7,.75,.8,.85,.9,.95,.96,.97,.98,.99,1], \n",
    "    labels = [1,2,3,4,5,6,7,8,9,10,11,12,13,14,15,16,17,18]) \n",
    "print(data.groupby(['Mortality_cat'])['Mortality_cat'].count())\n",
    "print(data.groupby(['Mortality_cat'])['Mortality_rate2'].mean())"
   ]
  },
  {
   "cell_type": "code",
   "execution_count": 17,
   "metadata": {
    "collapsed": true
   },
   "outputs": [],
   "source": [
    "# variable à expliquer\n",
    "Y= data[\"Mortality_cat\"] \n",
    "type(Y)\n",
    "Y2 = pd.DataFrame({'Mortality_cat':Y})\n",
    "\n",
    "\n",
    "# variables explicatives\n",
    "X= data[[\"Sex\",\"Age_bucket\",\"Year\",\"Country\", \"SP.URB.TOTL.IN.ZS\",\"SP.URB.GROW\",\"SP.POP.GROW\",\"SE.PRM.DURS\",\n",
    "\"AG.SRF.TOTL.K2\",\"SE.PRE.DURS\",\"EN.POP.DNST\",\"SE.SEC.DURS\",\"SP.DYN.CBRT.IN\",\"SP.DYN.CDRT.IN\",\n",
    "\"NY.ADJ.AEDU.GN.ZS\", \"SP.DYN.TFRT.IN\", \"SP.ADO.TFRT\", \"SP.DYN.LE00.FE.IN\", \"SP.DYN.LE00.IN\",\n",
    "\"SP.POP.DPND\",\"SP.DYN.AMRT.FE\",\"SP.DYN.AMRT.MA\",\"EN.ATM.NOXE.KT.CE\",\"EN.ATM.METH.KT.CE\",\n",
    "\"AG.LND.AGRI.K2\", \"EN.ATM.GHGO.KT.CE\",\"AG.LND.AGRI.ZS\",\"AG.PRD.FOOD.XD\",\"IT.CEL.SETS\",\n",
    "\"AG.PRD.LVSK.XD\",\"AG.PRD.CROP.XD\",\"IT.MLT.MAIN\",\"EN.ATM.GHGT.KT.CE\",\"EN.ATM.CO2E.GF.ZS\",\n",
    "\"EN.ATM.CO2E.LF.ZS\",\"EN.ATM.CO2E.SF.ZS\",\"NY.GDP.FRST.RT.ZS\",\"NY.GDP.MINR.RT.ZS\",\"EN.ATM.CO2E.LF.KT\",\n",
    "\"EN.ATM.METH.AG.KT.CE\",\"EN.ATM.METH.EG.KT.CE\",\"EN.ATM.NOXE.AG.KT.CE\", \"EN.ATM.NOXE.EG.KT.CE\",\n",
    "\"NY.GDP.TOTL.RT.ZS\", \"EN.ATM.CO2E.KT\",\"EN.ATM.CO2E.PC\",\"NY.GDP.MKTP.CD\",\"NY.GDP.PCAP.CD\"]] \n",
    "\n",
    "\n",
    "# On transforme les variables sous forme de chaînes de caractères en variables binaires :\n",
    "# Ici, seul la variable country est concernée\n",
    "X2 = X.T.to_dict().values()\n",
    "from sklearn.feature_extraction import DictVectorizer\n",
    "prep = DictVectorizer()\n",
    "X3 = prep.fit_transform(X2).toarray()\n",
    "\n",
    "# on constitut nos deux échantillons \"train\" et \"test\" \n",
    "from sklearn.model_selection import train_test_split\n",
    "X_train, X_test, Y_train, Y_test = train_test_split(X3, Y2, test_size=0.3)"
   ]
  },
  {
   "cell_type": "code",
   "execution_count": 18,
   "metadata": {},
   "outputs": [
    {
     "name": "stdout",
     "output_type": "stream",
     "text": [
      "RandomForestClassifier(bootstrap=True, class_weight=None, criterion='gini',\n",
      "            max_depth=None, max_features='auto', max_leaf_nodes=None,\n",
      "            min_impurity_decrease=0.0, min_impurity_split=None,\n",
      "            min_samples_leaf=1, min_samples_split=2,\n",
      "            min_weight_fraction_leaf=0.0, n_estimators=10, n_jobs=1,\n",
      "            oob_score=False, random_state=None, verbose=0,\n",
      "            warm_start=False)\n"
     ]
    }
   ],
   "source": [
    "#importation de la classe GradientBoostingClassifier\n",
    "from sklearn.ensemble import RandomForestClassifier\n",
    "print(RandomForestClassifier())\n",
    "from sklearn import metrics"
   ]
  },
  {
   "cell_type": "markdown",
   "metadata": {},
   "source": [
    "Comme pour la régression, nous calculons le RMSE du modèle en faisant varier les paramètres suivants :\n",
    "\n",
    "- n_estimators : Le nombre d'arbres dans la forêt. (par défaut = 10)\n",
    "- max_depth : La profondeur maximale de l'arbre. (par défaut = None)\n",
    "- max_features : le nombre de variables tirées aléatoirement pour la recherche de la division optimale d’un nœud"
   ]
  },
  {
   "cell_type": "code",
   "execution_count": 20,
   "metadata": {},
   "outputs": [
    {
     "name": "stdout",
     "output_type": "stream",
     "text": [
      "n_estimators 1 erreur 5.40979760587 5.44705365862\n",
      "n_estimators 2 erreur 4.41004242161 4.52117854726\n",
      "n_estimators 3 erreur 5.39921387838 5.50040655515\n",
      "n_estimators 4 erreur 5.6427128721 5.64759673111\n",
      "n_estimators 5 erreur 4.14973352149 4.24966588185\n",
      "n_estimators 6 erreur 5.37990119905 5.45132962068\n",
      "n_estimators 7 erreur 4.78933202783 4.89708942069\n",
      "n_estimators 8 erreur 4.60948529667 4.69005341903\n",
      "n_estimators 9 erreur 4.68291455165 4.77253621964\n",
      "n_estimators 10 erreur 3.35823140081 3.5479087544\n",
      "n_estimators 11 erreur 3.86830831653 4.01153301591\n",
      "n_estimators 12 erreur 5.24315957051 5.33067539613\n",
      "n_estimators 13 erreur 5.01960196886 5.11645246901\n",
      "n_estimators 14 erreur 4.77434358774 4.85794629635\n"
     ]
    },
    {
     "data": {
      "text/plain": [
       "<matplotlib.legend.Legend at 0x95507b4a58>"
      ]
     },
     "execution_count": 20,
     "metadata": {},
     "output_type": "execute_result"
    },
    {
     "data": {
      "image/png": "[encoded data removed]",
      "text/plain": [
       "<matplotlib.figure.Figure at 0x9538ad57b8>"
      ]
     },
     "metadata": {},
     "output_type": "display_data"
    }
   ],
   "source": [
    "# On cherche les parametres optimaux \n",
    "# on fait varier le nombre d'arbre dans la forêt..\n",
    "curves = []\n",
    "for n_estimators in range(1,15) :\n",
    "    \n",
    "\n",
    "    # Etape 1 : définition des paramètres\n",
    "    RFC= RandomForestClassifier(n_estimators = n_estimators, max_depth=10 )\n",
    "    \n",
    "    # Etape 2 : apprentissage\n",
    "    RFC = RFC.fit(X_train,  Y_train[\"Mortality_cat\"].ravel())  #attention c'est assez long à tourner\n",
    "\n",
    "    # Etape 3 : prédiction\n",
    "    Y_pred_train = RFC.predict(X_train)\n",
    "    Y_pred_test  = RFC.predict(X_test)\n",
    "\n",
    "    # Etape 4 : evaluation  (on calcule l'erreur)\n",
    "    err_train = metrics.mean_squared_error( Y_pred_train, Y_train)**0.5\n",
    "    err_test = metrics.mean_squared_error( Y_pred_test, Y_test)**0.5\n",
    "    \n",
    "    print(\"n_estimators\",n_estimators, \"erreur\",err_train ,err_test)\n",
    "    curves.append((n_estimators,err_train ,err_test, RFC)) \n",
    "\n",
    "plt.plot ( [c[0] for c in curves], [c[1] for c in curves], label=\"train\")\n",
    "plt.plot ( [c[0] for c in curves], [c[2] for c in curves], label=\"test\")\n",
    "\n",
    "plt.legend()\n",
    "# on garde la valeur par défaut n_estimators=10"
   ]
  },
  {
   "cell_type": "code",
   "execution_count": 21,
   "metadata": {},
   "outputs": [
    {
     "name": "stdout",
     "output_type": "stream",
     "text": [
      "max_depth 1 erreur 6.64129282851 6.57718722335\n",
      "max_depth 2 erreur 6.64129282851 6.57718722335\n",
      "max_depth 3 erreur 6.61612847197 6.55363177524\n",
      "max_depth 4 erreur 6.61336098175 6.54996620183\n",
      "max_depth 5 erreur 6.53302804614 6.48050606474\n",
      "max_depth 6 erreur 5.5492006882 5.58439078088\n",
      "max_depth 7 erreur 6.1555079047 6.11923855565\n",
      "max_depth 8 erreur 5.77029897432 5.7766106645\n",
      "max_depth 9 erreur 5.88396071644 5.88487494605\n",
      "max_depth 10 erreur 5.15072616865 5.20936441792\n",
      "max_depth 11 erreur 3.50420366659 3.75024149491\n",
      "max_depth 12 erreur 3.37702667372 3.73681342824\n",
      "max_depth 13 erreur 2.37638731788 2.96661507597\n",
      "max_depth 14 erreur 1.96348548875 2.71097286632\n",
      "max_depth 15 erreur 1.51147022734 2.57433319779\n",
      "max_depth 16 erreur 1.19474967045 2.3224424254\n",
      "max_depth 17 erreur 0.934543015957 2.27679827294\n",
      "max_depth 18 erreur 0.83890688399 2.26813896903\n",
      "max_depth 19 erreur 0.760047456528 2.21714735576\n",
      "max_depth 20 erreur 0.684992587076 2.22596484678\n",
      "max_depth 21 erreur 0.631770186437 2.19458187916\n",
      "max_depth 22 erreur 0.695683010058 2.2141195951\n",
      "max_depth 23 erreur 0.667991195591 2.22690894172\n",
      "max_depth 24 erreur 0.609375706543 2.20649147997\n",
      "max_depth 25 erreur 0.658686196139 2.22694910709\n",
      "max_depth 26 erreur 0.640748153798 2.20805161849\n",
      "max_depth 27 erreur 0.658191282572 2.20831490975\n",
      "max_depth 28 erreur 0.585471759707 2.21787340327\n",
      "max_depth 29 erreur 0.628332245573 2.19987395964\n",
      "max_depth 30 erreur 0.625641826558 2.20082924687\n",
      "max_depth 31 erreur 0.669825237503 2.19899960992\n",
      "max_depth 32 erreur 0.618709719924 2.21456392571\n",
      "max_depth 33 erreur 0.620967284196 2.22664784912\n",
      "max_depth 34 erreur 0.623985144464 2.23468750942\n",
      "max_depth 35 erreur 0.601237031802 2.21054150353\n",
      "max_depth 36 erreur 0.634434617718 2.19861315859\n",
      "max_depth 37 erreur 0.612419387771 2.19303255129\n",
      "max_depth 38 erreur 0.656704303977 2.220493265\n",
      "max_depth 39 erreur 0.676516964451 2.20119499176\n"
     ]
    },
    {
     "data": {
      "text/plain": [
       "<matplotlib.legend.Legend at 0x95409aa518>"
      ]
     },
     "execution_count": 21,
     "metadata": {},
     "output_type": "execute_result"
    },
    {
     "data": {
      "image/png": "[encoded data removed]",
      "text/plain": [
       "<matplotlib.figure.Figure at 0x9533024a20>"
      ]
     },
     "metadata": {},
     "output_type": "display_data"
    }
   ],
   "source": [
    "# on fait varier a profondeur maximale de l'arbre.\n",
    "curves = []\n",
    "for max_depth in range(1,40) :\n",
    "\n",
    "    # Etape 1 : définition des paramètres\n",
    "    RFC= RandomForestClassifier(n_estimators = 10, max_depth=max_depth)\n",
    "    \n",
    "    # Etape 2 : apprentissage\n",
    "    RFC = RFC.fit(X_train,  Y_train[\"Mortality_cat\"].ravel())  #attention c'est assez long à tourner\n",
    "\n",
    "    # Etape 3 : prédiction\n",
    "    Y_pred_train = RFC.predict(X_train)\n",
    "    Y_pred_test  = RFC.predict(X_test)\n",
    "\n",
    "    # Etape 4 : evaluation  (on calcule l'erreur)\n",
    "    err_train = metrics.mean_squared_error( Y_pred_train, Y_train)**0.5\n",
    "    err_test = metrics.mean_squared_error( Y_pred_test, Y_test)**0.5\n",
    "    \n",
    "    print(\"max_depth\",max_depth, \"erreur\",err_train ,err_test)\n",
    "    curves.append((max_depth,err_train ,err_test, RFC)) \n",
    "\n",
    "plt.plot ( [c[0] for c in curves], [c[1] for c in curves], label=\"train\")\n",
    "plt.plot ( [c[0] for c in curves], [c[2] for c in curves], label=\"test\")\n",
    "\n",
    "plt.legend()  \n",
    "# on choisit max_depth = 20"
   ]
  },
  {
   "cell_type": "code",
   "execution_count": 27,
   "metadata": {},
   "outputs": [
    {
     "data": {
      "text/plain": [
       "<matplotlib.legend.Legend at 0x9544f31ba8>"
      ]
     },
     "execution_count": 27,
     "metadata": {},
     "output_type": "execute_result"
    },
    {
     "data": {
      "image/png": "[encoded data removed]",
      "text/plain": [
       "<matplotlib.figure.Figure at 0x953cd886d8>"
      ]
     },
     "metadata": {},
     "output_type": "display_data"
    }
   ],
   "source": [
    "# on fait varier le nombre de variables tirées aléatoirement pour la recherche de la division optimale d’un nœud.\n",
    "curves = []\n",
    "for max_features in range(1,80) :\n",
    "\n",
    "    # Etape 1 : définition des paramètres\n",
    "    RFC= RandomForestClassifier(n_estimators = 10, max_depth=20, max_features=max_features)\n",
    "    \n",
    "    # Etape 2 : apprentissage\n",
    "    RFC = RFC.fit(X_train,  Y_train[\"Mortality_cat\"].ravel())  #attention c'est assez long à tourner\n",
    "\n",
    "    # Etape 3 : prédiction\n",
    "    Y_pred_train = RFC.predict(X_train)\n",
    "    Y_pred_test  = RFC.predict(X_test)\n",
    "\n",
    "    # Etape 4 : evaluation  (on calcule l'erreur)\n",
    "    err_train = metrics.mean_squared_error( Y_pred_train, Y_train)**0.5\n",
    "    err_test = metrics.mean_squared_error( Y_pred_test, Y_test)**0.5\n",
    "    \n",
    "    #print(\"max_features\",max_features, \"erreur\",err_train ,err_test)\n",
    "    curves.append((max_features,err_train ,err_test, RFC)) \n",
    "\n",
    "plt.plot ( [c[0] for c in curves], [c[1] for c in curves], label=\"train\")\n",
    "plt.plot ( [c[0] for c in curves], [c[2] for c in curves], label=\"test\")\n",
    "\n",
    "plt.legend()  \n",
    "# on choisit max_depth = 70"
   ]
  },
  {
   "cell_type": "code",
   "execution_count": 29,
   "metadata": {},
   "outputs": [
    {
     "name": "stdout",
     "output_type": "stream",
     "text": [
      "RMSE_train 0.49626731225\n",
      "RMSE_test 1.77819731434\n",
      "R2_train 0.980141082656\n",
      "R2_test 0.980141082656\n"
     ]
    }
   ],
   "source": [
    "# Le modèle final est le suivant :\n",
    "\n",
    "# Etape 1 : définition des paramètres\n",
    "RFC= RandomForestClassifier(n_estimators = 10, max_depth=20, max_features=70)\n",
    "\n",
    "# Etape 2 : apprentissage\n",
    "RFC = RFC.fit(X_train,  Y_train[\"Mortality_cat\"].ravel())  #attention c'est assez long à tourner\n",
    "\n",
    "# Etape 3 : prédiction\n",
    "Y_pred_train = RFC.predict(X_train)\n",
    "Y_pred_test  = RFC.predict(X_test)\n",
    "\n",
    "# Etape 4 : evaluation  (on calcule l'erreur)\n",
    "\n",
    "# on calcule l'erreur (RMSE)\n",
    "err_train = metrics.mean_squared_error( Y_pred_train, Y_train)**0.5\n",
    "err_test = metrics.mean_squared_error( Y_pred_test, Y_test)**0.5\n",
    "print(\"RMSE_train\", err_train)\n",
    "print(\"RMSE_test\", err_test)\n",
    "\n",
    "# R2\n",
    "R2_train = RFC.score(X_train, Y_train)\n",
    "R2_test = RFC.score(X_test, Y_test)\n",
    "print(\"R2_train\",R2_train)\n",
    "print(\"R2_test\",R2_train)"
   ]
  },
  {
   "cell_type": "code",
   "execution_count": null,
   "metadata": {
    "collapsed": true
   },
   "outputs": [],
   "source": [
    "A présent, nous utilisons une méthode automatique de recherche des paramètres pour comparer les résultats."
   ]
  },
  {
   "cell_type": "code",
   "execution_count": null,
   "metadata": {
    "collapsed": true
   },
   "outputs": [],
   "source": [
    "#outil grille de recherche\n",
    "from sklearn.grid_search import GridSearchCV\n",
    "\n",
    "#combinaisons de paramètres à tester : Scikit-learn va évaluer toutes les combinaisons\n",
    "parametres = {\"max_depth\":[15,16,17,18,19,20,21,22,23,24,25],\"max_features\":[60,61,62,63,64,65,66,67,68,69,70,71,72,73,74,75,76,77,78,79,80]}\n",
    "\n",
    "#classifieur à utiliser – Random Forest\n",
    "RFC= RandomForestClassifier()\n",
    "#instanciation de la recherche\n",
    "grille = GridSearchCV(estimator=RFC,param_grid=parametres)\n",
    "\n",
    "#lancer l'exploration\n",
    "resultats = grille.fit(X_train,Y_train[\"Mortality_cat\"].ravel())\n",
    "print(resultats.best_params_)\n",
    "#prédiction avec le ‘’meilleur’’ modèle identifié\n",
    "Y_pred_train = resultats.predict(X_train)\n",
    "Y_pred_test = resultats.predict(X_test) \n",
    "#performances du ‘’meilleur’’ modèle : \n",
    "# RMSE\n",
    "err_train = metrics.mean_squared_error( Y_pred_train, Y_train)**0.5\n",
    "err_test = metrics.mean_squared_error( Y_pred_test, Y_test)**0.5\n",
    "print(err_train)\n",
    "print(err_test)\n",
    "# R2\n",
    "R2_train = resultats.score(X_test, Y_test)\n",
    "R2_test = resultats.score(X_test, Y_test)\n",
    "print(R2_train)\n",
    "print(R2_test)\n",
    "\n",
    "# Résultat méthode manuelle: 1.617870509 2.4612743038 0.440966010733 0.440966010733\n",
    "# résultat de la méthode automatique : 2.6439974058 3.19650132979 0.424329159213 0.424329159213\n",
    "# les résultats avec cette méthode sont pas stable et moins bons"
   ]
  },
  {
   "cell_type": "markdown",
   "metadata": {},
   "source": [
    "# Méthode Boosting : ici, nous allons voir l'algorithme de Gradient Boosting Machine (gbm) pour une classification."
   ]
  },
  {
   "cell_type": "markdown",
   "metadata": {},
   "source": [
    "# Gradient Bossting Machine Classification"
   ]
  },
  {
   "cell_type": "markdown",
   "metadata": {},
   "source": [
    "GB construit un modèle additif; il permet l'optimisation de fonctions de pertes différentiables arbitraires. A chaque étape, n_classes_ les arbres de régression sont ajustés sur le gradient négatif de la fonction de perte de déviance binomiale ou multinomiale. La classification binaire est un cas particulier où un seul arbre de régression est induit."
   ]
  },
  {
   "cell_type": "code",
   "execution_count": 31,
   "metadata": {},
   "outputs": [
    {
     "data": {
      "text/plain": [
       "Mortality_cat\n",
       "1     0.000000\n",
       "2     0.000105\n",
       "3     0.000376\n",
       "4     0.000856\n",
       "5     0.001958\n",
       "6     0.004334\n",
       "7     0.008759\n",
       "8     0.015763\n",
       "9     0.026243\n",
       "10    0.041913\n",
       "11    0.067882\n",
       "12    0.113848\n",
       "13    0.206613\n",
       "14    0.302866\n",
       "15    0.355359\n",
       "16    0.434428\n",
       "17    0.612906\n",
       "18    0.938473\n",
       "Name: Mortality_rate2, dtype: float64"
      ]
     },
     "execution_count": 31,
     "metadata": {},
     "output_type": "execute_result"
    }
   ],
   "source": [
    "# on crée des tranches pour la variables taux de mortalité\n",
    "data['Mortality_rate2'].describe()\n",
    "data.sort_values(by=['Mortality_rate2'], ascending=False)\n",
    "data['Mortality_rate2'].quantile([0,.1,.2,.3,.35,.4,.45,.5,.55,.6,.65,.7,.75,.8,.85,.9,.95,.96,.97,.98,.99,1])\n",
    "data[data['Mortality_rate2']==0].count() # il y a 13051 lignes avec des zéros sur 37264 au total => il y a 35.0230786% avec des zéros\n",
    " \n",
    "# on crée 18 tranches\n",
    "data['Mortality_cat'] = pd.qcut(data['Mortality_rate2'] , q = [0,0.350230786,0.4,.45,.5,.55,.6,.65,.7,.75,.8,.85,.9,.95,.96,.97,.98,.99,1], \n",
    "    labels = [1,2,3,4,5,6,7,8,9,10,11,12,13,14,15,16,17,18]) \n",
    "data.groupby(['Mortality_cat'])['Mortality_cat'].count()\n",
    "data.groupby(['Mortality_cat'])['Mortality_rate2'].mean()"
   ]
  },
  {
   "cell_type": "code",
   "execution_count": 32,
   "metadata": {
    "collapsed": true
   },
   "outputs": [],
   "source": [
    "# variable à expliquer\n",
    "Y= data[\"Mortality_cat\"] \n",
    "type(Y)\n",
    "Y2 = pd.DataFrame({'Mortality_cat':Y})\n",
    "\n",
    "# variables explicatives\n",
    "X= data[[\"Sex\",\"Age_bucket\",\"Year\",\"Country\", \"SP.URB.TOTL.IN.ZS\",\"SP.URB.GROW\",\"SP.POP.GROW\",\"SE.PRM.DURS\",\n",
    "\"AG.SRF.TOTL.K2\",\"SE.PRE.DURS\",\"EN.POP.DNST\",\"SE.SEC.DURS\",\"SP.DYN.CBRT.IN\",\"SP.DYN.CDRT.IN\",\n",
    "\"NY.ADJ.AEDU.GN.ZS\", \"SP.DYN.TFRT.IN\", \"SP.ADO.TFRT\", \"SP.DYN.LE00.FE.IN\", \"SP.DYN.LE00.IN\",\n",
    "\"SP.POP.DPND\",\"SP.DYN.AMRT.FE\",\"SP.DYN.AMRT.MA\",\"EN.ATM.NOXE.KT.CE\",\"EN.ATM.METH.KT.CE\",\n",
    "\"AG.LND.AGRI.K2\", \"EN.ATM.GHGO.KT.CE\",\"AG.LND.AGRI.ZS\",\"AG.PRD.FOOD.XD\",\"IT.CEL.SETS\",\n",
    "\"AG.PRD.LVSK.XD\",\"AG.PRD.CROP.XD\",\"IT.MLT.MAIN\",\"EN.ATM.GHGT.KT.CE\",\"EN.ATM.CO2E.GF.ZS\",\n",
    "\"EN.ATM.CO2E.LF.ZS\",\"EN.ATM.CO2E.SF.ZS\",\"NY.GDP.FRST.RT.ZS\",\"NY.GDP.MINR.RT.ZS\",\"EN.ATM.CO2E.LF.KT\",\n",
    "\"EN.ATM.METH.AG.KT.CE\",\"EN.ATM.METH.EG.KT.CE\",\"EN.ATM.NOXE.AG.KT.CE\", \"EN.ATM.NOXE.EG.KT.CE\",\n",
    "\"NY.GDP.TOTL.RT.ZS\", \"EN.ATM.CO2E.KT\",\"EN.ATM.CO2E.PC\",\"NY.GDP.MKTP.CD\",\"NY.GDP.PCAP.CD\"]] \n",
    "\n",
    "# On transforme les variables sous forme de chaînes de caractères en variables binaires :\n",
    "# Ici, seul la variable country est concernée\n",
    "X2 = X.T.to_dict().values()\n",
    "from sklearn.feature_extraction import DictVectorizer\n",
    "prep = DictVectorizer()\n",
    "X3 = prep.fit_transform(X2).toarray()\n",
    "\n",
    "# on constitut nos deux échantillons \"train\" et \"test\" \n",
    "from sklearn.model_selection import train_test_split\n",
    "X_train, X_test, Y_train, Y_test = train_test_split(X3, Y2, test_size=0.3)"
   ]
  },
  {
   "cell_type": "code",
   "execution_count": 33,
   "metadata": {},
   "outputs": [
    {
     "name": "stdout",
     "output_type": "stream",
     "text": [
      "1.67401640698\n",
      "1.79067850744\n",
      "0.693911976691\n",
      "0.607602862254\n"
     ]
    }
   ],
   "source": [
    "#importation de la classe GradientBoostingClassifier\n",
    "from sklearn.ensemble import GradientBoostingClassifier\n",
    "from sklearn import metrics\n",
    "\n",
    "# Etape 1 : définition des paramètres\n",
    "GB = GradientBoostingClassifier(learning_rate=0.1,max_depth=3,subsample=1.0)\n",
    "\n",
    "# Etape 2 : apprentissage\n",
    "GB = GB.fit(X_train,  Y_train[\"Mortality_cat\"].ravel())  #attention c'est assez long à tourner 12 min\n",
    "\n",
    "# Etape 3 : prédiction\n",
    "Y_pred_train = GB.predict(X_train)\n",
    "Y_pred_test = GB.predict(X_test)\n",
    "\n",
    "# Etape 4 : evaluation  (on calcule l'erreur)\n",
    "\n",
    "# on calcule l'erreur (RMSE)\n",
    "err_train = metrics.mean_squared_error( Y_pred_train, Y_train)**0.5\n",
    "err_test = metrics.mean_squared_error( Y_pred_test, Y_test)**0.5\n",
    "print(err_train)\n",
    "print(err_test)\n",
    "\n",
    "# R2\n",
    "R2_train = GB.score(X_train, Y_train)\n",
    "R2_test = GB.score(X_test, Y_test)\n",
    "print(R2_train)\n",
    "print(R2_test)"
   ]
  },
  {
   "cell_type": "markdown",
   "metadata": {},
   "source": [
    "On pourrait certainement trouver de meilleurs résultats en testant d'autres paramètres, mais le temps de traitement est très long juste pour un seul algorithme. Je n'ai pas creusé cette piste."
   ]
  }
 ],
 "metadata": {
  "kernelspec": {
   "display_name": "Python 3",
   "language": "python",
   "name": "python3"
  },
  "language_info": {
   "codemirror_mode": {
    "name": "ipython",
    "version": 3
   },
   "file_extension": ".py",
   "mimetype": "text/x-python",
   "name": "python",
   "nbconvert_exporter": "python",
   "pygments_lexer": "ipython3",
   "version": "3.6.3"
  }
 },
 "nbformat": 4,
 "nbformat_minor": 2
}
